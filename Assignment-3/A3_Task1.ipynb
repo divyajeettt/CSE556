{
 "cells": [
  {
   "cell_type": "code",
   "execution_count": 1,
   "metadata": {},
   "outputs": [],
   "source": [
    "from transformers import AutoTokenizer, BertModel\n",
    "import torch\n",
    "import numpy as np\n",
    "import datasets\n",
    "import pandas as pd\n",
    "from tqdm import tqdm"
   ]
  },
  {
   "cell_type": "code",
   "execution_count": 7,
   "metadata": {},
   "outputs": [
    {
     "name": "stdout",
     "output_type": "stream",
     "text": [
      "{'input_ids': tensor([[ 101, 1045, 2293, 2017,  102, 1045, 5223, 2017,  102]]), 'token_type_ids': tensor([[0, 0, 0, 0, 0, 0, 0, 0, 0]]), 'attention_mask': tensor([[1, 1, 1, 1, 1, 1, 1, 1, 1]])}\n",
      "[CLS] i love you [SEP] i hate you [SEP]\n"
     ]
    }
   ],
   "source": [
    "sentence = 'I love you [SEP] I hate you'\n",
    "tokenizer = AutoTokenizer.from_pretrained(\"bert-base-uncased\")\n",
    "tokenized = tokenizer.encode_plus(sentence, return_tensors='pt', padding=True, truncation=True,add_special_tokens=True)\n",
    "print(tokenized)\n",
    "#decode the tokenized sentence\n",
    "decoded = tokenizer.decode(tokenized['input_ids'][0])\n",
    "print(decoded)"
   ]
  },
  {
   "cell_type": "code",
   "execution_count": null,
   "metadata": {},
   "outputs": [],
   "source": [
    "class Data(torch.utils.data.Dataset):\n",
    "    def __init__(self, path):\n",
    "        df = pd.read_csv(path)\n",
    "        df['training'] = df.apply(lambda x: x['sentence1'] + ' [SEP] ' + x['sentence2'], axis=1)\n",
    "        df['tokenized'] = df['training'].apply(lambda x: tokenizer.encode_plus(x, return_tensors='pt', padding=True, truncation=True,add_special_tokens=True))\n",
    "        df['input_ids'] = df['tokenized'].apply(lambda x: x['input_ids'][0])\n",
    "        df['attention_mask'] = df['tokenized'].apply(lambda x: x['attention_mask'][0])\n",
    "        df['label'] = df['score'].apply(lambda x: torch.tensor(x))\n",
    "        self.df = df\n",
    "\n",
    "    def __len__(self):\n",
    "        return len(self.df)\n",
    "    \n",
    "    def __getitem__(self, idx):\n",
    "        return self.df['input_ids'][idx], self.df['attention_mask'][idx], self.df['label'][idx]\n",
    "\n",
    "def collate_fn(batch):\n",
    "    input_ids = torch.nn.utils.rnn.pad_sequence([x[0] for x in batch])\n",
    "    attention_mask = torch.nn.utils.rnn.pad_sequence([x[1] for x in batch])\n",
    "    label = torch.stack([x[2] for x in batch])\n",
    "    return input_ids, attention_mask, label"
   ]
  },
  {
   "cell_type": "code",
   "execution_count": null,
   "metadata": {},
   "outputs": [],
   "source": [
    "class Model(torch.nn.Module):\n",
    "    def __init__(self):\n",
    "        super(Model, self).__init__()\n",
    "        self.bert = BertModel.from_pretrained(\"bert-base-uncased\")\n",
    "        self.fc1 = torch.nn.Linear(768, 40)\n",
    "        self.fc2 = torch.nn.Linear(40, 1)\n",
    "\n",
    "    def forward(self, input_ids, attention_mask):\n",
    "        x = self.bert(input_ids, attention_mask)\n",
    "        x = x['last_hidden_state'][:,0,:] #CLS token\n",
    "        x = torch.nn.functional.relu(self.fc1(x))\n",
    "        x = self.fc2(x)\n",
    "        return x\n",
    "    \n",
    "def train(model=None, train_dataloader=None,validation_dataloader=None,epochs=10,loss_fn=torch.nn.functional.mse_loss,\n",
    "          lr=1e-3,batch_size=16):\n",
    "    if train_dataloader is None:\n",
    "        train_dataset = Data('Data/train.csv')\n",
    "        train_dataloader = torch.utils.data.DataLoader(train_dataset, batch_size=batch_size, shuffle=True, collate_fn=collate_fn)\n",
    "    if validation_dataloader is None:\n",
    "        validation_dataset = Data('Data/dev.csv')\n",
    "        validation_dataloader = torch.utils.data.DataLoader(validation_dataset, batch_size=batch_size, shuffle=False, collate_fn=collate_fn)\n",
    "    device = torch.device('cuda' if torch.cuda.is_available() else 'cpu')\n",
    "    optimizer = torch.optim.Adam(model.parameters(), lr=lr)\n",
    "    for i in range(epochs):\n",
    "        print('Training for epoch',i+1)\n",
    "        total_loss = 0\n",
    "        for input_ids, attention_mask, label in tqdm(train_dataloader):\n",
    "            input_ids = input_ids.to(device)\n",
    "            attention_mask = attention_mask.to(device)\n",
    "            label = label.to(device)\n",
    "            optimizer.zero_grad()\n",
    "            output = model(input_ids, attention_mask)\n",
    "            loss = loss_fn(output, label)\n",
    "            loss.backward()\n",
    "            optimizer.step()\n",
    "            with torch.no_grad():\n",
    "                total_loss += loss.item()\n",
    "        print('Training loss',total_loss/len(train_dataloader))\n",
    "        total_loss = 0\n",
    "        print('Validation for epoch',i+1)\n",
    "        with torch.no_grad():\n",
    "            total_loss = 0\n",
    "            for input_ids, attention_mask, label in tqdm(validation_dataloader):\n",
    "                input_ids = input_ids.to(device)\n",
    "                attention_mask = attention_mask.to(device)\n",
    "                label = label.to(device)\n",
    "                output = model(input_ids, attention_mask)\n",
    "                loss = loss_fn(output, label)\n",
    "                total_loss += loss.item()\n",
    "            print('Validation loss',total_loss/len(validation_dataloader))"
   ]
  }
 ],
 "metadata": {
  "kernelspec": {
   "display_name": "base",
   "language": "python",
   "name": "python3"
  },
  "language_info": {
   "codemirror_mode": {
    "name": "ipython",
    "version": 3
   },
   "file_extension": ".py",
   "mimetype": "text/x-python",
   "name": "python",
   "nbconvert_exporter": "python",
   "pygments_lexer": "ipython3",
   "version": "3.11.5"
  }
 },
 "nbformat": 4,
 "nbformat_minor": 2
}
