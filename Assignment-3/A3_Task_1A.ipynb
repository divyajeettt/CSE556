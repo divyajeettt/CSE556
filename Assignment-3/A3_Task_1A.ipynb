{
  "cells": [
    {
      "cell_type": "code",
      "execution_count": 1,
      "metadata": {
        "id": "zgwGUvEbpEqX"
      },
      "outputs": [],
      "source": [
        "from transformers import AutoTokenizer\n",
        "import pandas as pd\n",
        "import torch\n",
        "from tqdm import tqdm\n",
        "from transformers import BertModel\n",
        "import torch\n",
        "import matplotlib.pyplot as plt"
      ]
    },
    {
      "cell_type": "code",
      "execution_count": 13,
      "metadata": {
        "id": "zcqeEFKspEqa"
      },
      "outputs": [],
      "source": [
        "class Data(torch.utils.data.Dataset):\n",
        "    def __init__(self, path):\n",
        "        df = pd.read_csv(path, sep=\"\\t\")\n",
        "        df = df.dropna()\n",
        "        tokenizer = AutoTokenizer.from_pretrained('bert-base-uncased')\n",
        "        df['training'] = df.apply(lambda x: str(x['sentence1']) + str(' [SEP] ') + str(x['sentence2']), axis=1)\n",
        "        df['tokenized'] = df['training'].apply(lambda x: tokenizer.encode_plus(x, return_tensors='pt', padding=True, truncation=True,add_special_tokens=True))\n",
        "        df['input_ids'] = df['tokenized'].apply(lambda x: x['input_ids'][0])\n",
        "        df['attention_mask'] = df['tokenized'].apply(lambda x: x['attention_mask'][0])\n",
        "        df['label'] = df['score'].apply(lambda x: torch.tensor(x/5.0))\n",
        "        self.df = df\n",
        "\n",
        "    def __len__(self):\n",
        "        return len(self.df)\n",
        "\n",
        "    def __getitem__(self, idx):\n",
        "        return self.df['input_ids'][idx], self.df['attention_mask'][idx], self.df['label'][idx]\n",
        "\n",
        "\n",
        "def collate_fn(batch):\n",
        "    input_ids = torch.nn.utils.rnn.pad_sequence([x[0] for x in batch],batch_first=True)\n",
        "    attention_mask = torch.nn.utils.rnn.pad_sequence([x[1] for x in batch],batch_first=True)\n",
        "    label = torch.stack([x[2] for x in batch]).unsqueeze(1)\n",
        "    return input_ids, attention_mask, label\n",
        "\n",
        "\n",
        "def train(\n",
        "        model=None, train_dataloader=None, validation_dataloader=None, epochs=6,\n",
        "        loss_fn=torch.nn.functional.mse_loss, lr=1e-3, batch_size=16\n",
        "    ):\n",
        "    if train_dataloader is None:\n",
        "        train_dataset = Data('Data/train.csv')\n",
        "        train_dataloader = torch.utils.data.DataLoader(train_dataset, batch_size=batch_size, shuffle=True, collate_fn=collate_fn)\n",
        "    if validation_dataloader is None:\n",
        "        validation_dataset = Data('Data/dev.csv')\n",
        "        validation_dataloader = torch.utils.data.DataLoader(validation_dataset, batch_size=batch_size, shuffle=False, collate_fn=collate_fn)\n",
        "\n",
        "    device = torch.device('cuda' if torch.cuda.is_available() else 'cpu')\n",
        "    model = model.to(device)\n",
        "    optimizer = torch.optim.Adam(model.parameters(), lr=lr)\n",
        "    best_val_loss = 1e9\n",
        "\n",
        "    TRAIN_LOSSES = []\n",
        "    VAL_LOSSES = []\n",
        "\n",
        "    for i in range(epochs):\n",
        "        print('Training for epoch',i+1)\n",
        "        total_loss = 0\n",
        "        for input_ids, attention_mask, label in tqdm(train_dataloader):\n",
        "            input_ids = input_ids.to(device)\n",
        "            attention_mask = attention_mask.to(device)\n",
        "            label = label.to(device)\n",
        "            optimizer.zero_grad()\n",
        "            output = model(input_ids, attention_mask)\n",
        "            loss = loss_fn(output, label)\n",
        "            loss.backward()\n",
        "            optimizer.step()\n",
        "            with torch.no_grad():\n",
        "                total_loss += loss.item()\n",
        "        print('Training loss',total_loss/len(train_dataloader))\n",
        "        TRAIN_LOSSES.append(total_loss/len(train_dataloader))\n",
        "\n",
        "        total_loss = 0\n",
        "        print('Validation for epoch',i+1)\n",
        "        with torch.no_grad():\n",
        "            total_loss = 0\n",
        "            for input_ids, attention_mask, label in tqdm(validation_dataloader):\n",
        "                input_ids = input_ids.to(device)\n",
        "                attention_mask = attention_mask.to(device)\n",
        "                label = label.to(device)\n",
        "                output = model(input_ids, attention_mask)\n",
        "                loss = loss_fn(output, label)\n",
        "                total_loss += loss.item()\n",
        "            print('Validation loss',total_loss/len(validation_dataloader))\n",
        "            VAL_LOSSES.append(total_loss/len(validation_dataloader))\n",
        "\n",
        "            if total_loss < best_val_loss:\n",
        "                best_val_loss = total_loss\n",
        "                torch.save(model.state_dict(), 'model.pth')\n",
        "                print('Model saved')\n",
        "\n",
        "    return model, TRAIN_LOSSES, VAL_LOSSES\n",
        "\n",
        "\n",
        "class Model(torch.nn.Module):\n",
        "    def __init__(self):\n",
        "        super(Model, self).__init__()\n",
        "        self.bert = BertModel.from_pretrained(\"bert-base-uncased\")\n",
        "        self.fc1 = torch.nn.Linear(768, 40)\n",
        "        self.fc2 = torch.nn.Linear(40, 1)\n",
        "\n",
        "    def forward(self, input_ids, attention_mask):\n",
        "        x = self.bert(input_ids, attention_mask)\n",
        "        x = x['last_hidden_state'][:,0,:] #CLS token\n",
        "        x = torch.nn.functional.relu(self.fc1(x))\n",
        "        x = self.fc2(x)\n",
        "        x = torch.nn.functional.sigmoid(x)\n",
        "        return x"
      ]
    },
    {
      "cell_type": "code",
      "execution_count": 14,
      "metadata": {
        "colab": {
          "base_uri": "https://localhost:8080/"
        },
        "id": "5qdCXNuxpEqc",
        "outputId": "58d964fe-0427-4eef-9ec5-269dea9a036b"
      },
      "outputs": [
        {
          "output_type": "stream",
          "name": "stdout",
          "text": [
            "Training for epoch 1\n"
          ]
        },
        {
          "output_type": "stream",
          "name": "stderr",
          "text": [
            "100%|██████████| 357/357 [01:07<00:00,  5.26it/s]\n"
          ]
        },
        {
          "output_type": "stream",
          "name": "stdout",
          "text": [
            "Training loss 0.694201863780409\n",
            "Validation for epoch 1\n"
          ]
        },
        {
          "output_type": "stream",
          "name": "stderr",
          "text": [
            "100%|██████████| 92/92 [00:04<00:00, 19.21it/s]\n"
          ]
        },
        {
          "output_type": "stream",
          "name": "stdout",
          "text": [
            "Validation loss 0.6955388739057209\n",
            "Model saved\n",
            "Training for epoch 2\n"
          ]
        },
        {
          "output_type": "stream",
          "name": "stderr",
          "text": [
            "100%|██████████| 357/357 [01:08<00:00,  5.23it/s]\n"
          ]
        },
        {
          "output_type": "stream",
          "name": "stdout",
          "text": [
            "Training loss 0.6907363061477491\n",
            "Validation for epoch 2\n"
          ]
        },
        {
          "output_type": "stream",
          "name": "stderr",
          "text": [
            "100%|██████████| 92/92 [00:04<00:00, 19.28it/s]\n"
          ]
        },
        {
          "output_type": "stream",
          "name": "stdout",
          "text": [
            "Validation loss 0.6969964504241943\n",
            "Training for epoch 3\n"
          ]
        },
        {
          "output_type": "stream",
          "name": "stderr",
          "text": [
            "100%|██████████| 357/357 [01:07<00:00,  5.27it/s]\n"
          ]
        },
        {
          "output_type": "stream",
          "name": "stdout",
          "text": [
            "Training loss 0.6901309984404834\n",
            "Validation for epoch 3\n"
          ]
        },
        {
          "output_type": "stream",
          "name": "stderr",
          "text": [
            "100%|██████████| 92/92 [00:04<00:00, 19.07it/s]\n"
          ]
        },
        {
          "output_type": "stream",
          "name": "stdout",
          "text": [
            "Validation loss 0.7015329340229863\n",
            "Training for epoch 4\n"
          ]
        },
        {
          "output_type": "stream",
          "name": "stderr",
          "text": [
            "100%|██████████| 357/357 [01:06<00:00,  5.36it/s]\n"
          ]
        },
        {
          "output_type": "stream",
          "name": "stdout",
          "text": [
            "Training loss 0.690444099635971\n",
            "Validation for epoch 4\n"
          ]
        },
        {
          "output_type": "stream",
          "name": "stderr",
          "text": [
            "100%|██████████| 92/92 [00:04<00:00, 19.00it/s]\n"
          ]
        },
        {
          "output_type": "stream",
          "name": "stdout",
          "text": [
            "Validation loss 0.7001116185084634\n",
            "Training for epoch 5\n"
          ]
        },
        {
          "output_type": "stream",
          "name": "stderr",
          "text": [
            "100%|██████████| 357/357 [01:07<00:00,  5.28it/s]\n"
          ]
        },
        {
          "output_type": "stream",
          "name": "stdout",
          "text": [
            "Training loss 0.6910133012870446\n",
            "Validation for epoch 5\n"
          ]
        },
        {
          "output_type": "stream",
          "name": "stderr",
          "text": [
            "100%|██████████| 92/92 [00:04<00:00, 19.07it/s]\n"
          ]
        },
        {
          "output_type": "stream",
          "name": "stdout",
          "text": [
            "Validation loss 0.7014573857836102\n",
            "Training for epoch 6\n"
          ]
        },
        {
          "output_type": "stream",
          "name": "stderr",
          "text": [
            "100%|██████████| 357/357 [01:06<00:00,  5.35it/s]\n"
          ]
        },
        {
          "output_type": "stream",
          "name": "stdout",
          "text": [
            "Training loss 0.6905805141318078\n",
            "Validation for epoch 6\n"
          ]
        },
        {
          "output_type": "stream",
          "name": "stderr",
          "text": [
            "100%|██████████| 92/92 [00:04<00:00, 19.09it/s]"
          ]
        },
        {
          "output_type": "stream",
          "name": "stdout",
          "text": [
            "Validation loss 0.7039760020763978\n"
          ]
        },
        {
          "output_type": "stream",
          "name": "stderr",
          "text": [
            "\n"
          ]
        }
      ],
      "source": [
        "model, TRAIN_LOSSES, VAL_LOSSES = train(model=Model(), loss_fn=torch.nn.BCELoss())"
      ]
    },
    {
      "cell_type": "code",
      "source": [
        "torch.save(model.state_dict(), f\"MODEL_1A.pth\")"
      ],
      "metadata": {
        "id": "UicedOJkrB3K"
      },
      "execution_count": 16,
      "outputs": []
    },
    {
      "cell_type": "code",
      "source": [
        "plt.figure(figsize=(10, 5))\n",
        "plt.plot(range(1, 7), TRAIN_LOSSES, label=\"train loss\")\n",
        "plt.plot(range(1, 7), VAL_LOSSES, label=\"val loss\")\n",
        "plt.xticks(range(1, 7))\n",
        "plt.xlabel(\"Epoch\")\n",
        "plt.ylabel(\"Loss\")\n",
        "plt.legend()\n",
        "plt.grid(True)\n",
        "plt.show()"
      ],
      "metadata": {
        "colab": {
          "base_uri": "https://localhost:8080/",
          "height": 364
        },
        "id": "XBCi-FuFqdsb",
        "outputId": "b9ae37df-54d3-4246-f620-2963ae5ecc78"
      },
      "execution_count": 18,
      "outputs": [
        {
          "output_type": "display_data",
          "data": {
            "text/plain": [
              "<Figure size 1000x500 with 1 Axes>"
            ],
            "image/png": "[encoded data removed]"
          },
          "metadata": {}
        }
      ]
    }
  ],
  "metadata": {
    "kernelspec": {
      "display_name": "Python 3",
      "name": "python3"
    },
    "language_info": {
      "codemirror_mode": {
        "name": "ipython",
        "version": 3
      },
      "file_extension": ".py",
      "mimetype": "text/x-python",
      "name": "python",
      "nbconvert_exporter": "python",
      "pygments_lexer": "ipython3",
      "version": "3.11.0"
    },
    "colab": {
      "provenance": [],
      "gpuType": "T4"
    },
    "accelerator": "GPU"
  },
  "nbformat": 4,
  "nbformat_minor": 0
}