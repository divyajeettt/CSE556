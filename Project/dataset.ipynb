{
 "cells": [
  {
   "cell_type": "code",
   "execution_count": 1,
   "metadata": {},
   "outputs": [],
   "source": [
    "import pandas as pd\n",
    "from flipper import Flipper"
   ]
  },
  {
   "cell_type": "code",
   "execution_count": 2,
   "metadata": {},
   "outputs": [
    {
     "name": "stdout",
     "output_type": "stream",
     "text": [
      "Cloning into 'gendered_words'...\n",
      "remote: Enumerating objects: 28, done.\u001b[K\n",
      "remote: Total 28 (delta 0), reused 0 (delta 0), pack-reused 28\u001b[K\n",
      "Unpacking objects: 100% (28/28), 92.92 KiB | 511.00 KiB/s, done.\n"
     ]
    }
   ],
   "source": [
    "!git clone https://github.com/ecmonsen/gendered_words"
   ]
  },
  {
   "cell_type": "code",
   "execution_count": 3,
   "metadata": {},
   "outputs": [],
   "source": [
    "flipper = Flipper(r\"gendered_words/gendered_words.json\")"
   ]
  },
  {
   "cell_type": "code",
   "execution_count": 4,
   "metadata": {},
   "outputs": [
    {
     "name": "stdout",
     "output_type": "stream",
     "text": [
      "Cloning into 'BUG'...\n",
      "remote: Enumerating objects: 212, done.\u001b[K\n",
      "remote: Counting objects: 100% (21/21), done.\u001b[K\n",
      "remote: Compressing objects: 100% (6/6), done.\u001b[K\n",
      "remote: Total 212 (delta 17), reused 15 (delta 15), pack-reused 191\u001b[K\n",
      "Receiving objects: 100% (212/212), 77.48 MiB | 4.31 MiB/s, done.\n",
      "Resolving deltas: 100% (91/91), done.\n"
     ]
    }
   ],
   "source": [
    "!git clone https://github.com/SLAB-NLP/BUG"
   ]
  },
  {
   "cell_type": "code",
   "execution_count": 5,
   "metadata": {},
   "outputs": [],
   "source": [
    "import tarfile\n",
    "# # download data.tar.gz from https://github.com/SLAB-NLP/BUG/blob/main/data.tar.gz\n",
    "with tarfile.open(\"BUG/data.tar.gz\", 'r:gz') as tar:\n",
    "    tar.extractall(path=\"data\")"
   ]
  },
  {
   "cell_type": "code",
   "execution_count": 6,
   "metadata": {},
   "outputs": [
    {
     "data": {
      "text/html": [
       "<div>\n",
       "<style scoped>\n",
       "    .dataframe tbody tr th:only-of-type {\n",
       "        vertical-align: middle;\n",
       "    }\n",
       "\n",
       "    .dataframe tbody tr th {\n",
       "        vertical-align: top;\n",
       "    }\n",
       "\n",
       "    .dataframe thead th {\n",
       "        text-align: right;\n",
       "    }\n",
       "</style>\n",
       "<table border=\"1\" class=\"dataframe\">\n",
       "  <thead>\n",
       "    <tr style=\"text-align: right;\">\n",
       "      <th></th>\n",
       "      <th>original</th>\n",
       "      <th>flipped</th>\n",
       "    </tr>\n",
       "  </thead>\n",
       "  <tbody>\n",
       "    <tr>\n",
       "      <th>105682</th>\n",
       "      <td>but because no one had distinctly specified ex...</td>\n",
       "      <td>but because no one had distinctly specified ex...</td>\n",
       "    </tr>\n",
       "    <tr>\n",
       "      <th>105683</th>\n",
       "      <td>they point out that analysing yourself does n'...</td>\n",
       "      <td>they point out that analysing yourself does n'...</td>\n",
       "    </tr>\n",
       "    <tr>\n",
       "      <th>105684</th>\n",
       "      <td>give it to any person with - out calling it by...</td>\n",
       "      <td>give it to any person with - out calling it by...</td>\n",
       "    </tr>\n",
       "    <tr>\n",
       "      <th>105685</th>\n",
       "      <td>from this verse we can understand that , first...</td>\n",
       "      <td>from this verse we can understand that , first...</td>\n",
       "    </tr>\n",
       "    <tr>\n",
       "      <th>105686</th>\n",
       "      <td>\" artist sets fire to himself</td>\n",
       "      <td>\" artist sets fire to herself</td>\n",
       "    </tr>\n",
       "  </tbody>\n",
       "</table>\n",
       "</div>"
      ],
      "text/plain": [
       "                                                 original  \\\n",
       "105682  but because no one had distinctly specified ex...   \n",
       "105683  they point out that analysing yourself does n'...   \n",
       "105684  give it to any person with - out calling it by...   \n",
       "105685  from this verse we can understand that , first...   \n",
       "105686                      \" artist sets fire to himself   \n",
       "\n",
       "                                                  flipped  \n",
       "105682  but because no one had distinctly specified ex...  \n",
       "105683  they point out that analysing yourself does n'...  \n",
       "105684  give it to any person with - out calling it by...  \n",
       "105685  from this verse we can understand that , first...  \n",
       "105686                      \" artist sets fire to herself  "
      ]
     },
     "execution_count": 6,
     "metadata": {},
     "output_type": "execute_result"
    }
   ],
   "source": [
    "full_BUG = pd.read_csv(\"data/data/full_BUG.csv\")[\"sentence_text\"]\n",
    "\n",
    "dataframe = pd.DataFrame(columns=[\"original\"])\n",
    "dataframe[\"original\"] = full_BUG.str.lower().str.strip()\n",
    "dataframe[\"flipped\"] = dataframe.apply(flipper.flip_series, axis=1)\n",
    "dataframe.tail()"
   ]
  },
  {
   "cell_type": "code",
   "execution_count": 8,
   "metadata": {},
   "outputs": [],
   "source": [
    "dataframe.to_csv(\"corpus.csv\", index=True)"
   ]
  }
 ],
 "metadata": {
  "kernelspec": {
   "display_name": "Python 3",
   "language": "python",
   "name": "python3"
  },
  "language_info": {
   "codemirror_mode": {
    "name": "ipython",
    "version": 3
   },
   "file_extension": ".py",
   "mimetype": "text/x-python",
   "name": "python",
   "nbconvert_exporter": "python",
   "pygments_lexer": "ipython3",
   "version": "3.11.0"
  }
 },
 "nbformat": 4,
 "nbformat_minor": 2
}
