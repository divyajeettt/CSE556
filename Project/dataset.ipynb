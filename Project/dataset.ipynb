{
 "cells": [
  {
   "cell_type": "code",
   "execution_count": 1,
   "metadata": {},
   "outputs": [],
   "source": [
    "import csv\n",
    "import datasets\n",
    "import pandas as pd\n",
    "from typing import Iterable\n",
    "from gendermap import GenderMap"
   ]
  },
  {
   "cell_type": "code",
   "execution_count": 2,
   "metadata": {},
   "outputs": [],
   "source": [
    "dataset = datasets.load_dataset(\"wikitext\", \"wikitext-103-v1\")"
   ]
  },
  {
   "cell_type": "code",
   "execution_count": 3,
   "metadata": {},
   "outputs": [
    {
     "data": {
      "text/plain": [
       "1809468"
      ]
     },
     "execution_count": 3,
     "metadata": {},
     "output_type": "execute_result"
    }
   ],
   "source": [
    "train = dataset[\"train\"]\n",
    "validation = dataset[\"validation\"]\n",
    "test = dataset[\"test\"]\n",
    "\n",
    "len(train) + len(validation) + len(test)"
   ]
  },
  {
   "cell_type": "code",
   "execution_count": 4,
   "metadata": {},
   "outputs": [],
   "source": [
    "def process_split(split: datasets.arrow_dataset.Dataset, gender_map: GenderMap) -> list[Iterable, Iterable]:\n",
    "    normalize = lambda string: string.replace(\"\\n\", \" \").lower().strip()\n",
    "\n",
    "    normalized = map(normalize, split[\"text\"])\n",
    "    filtered = filter(gender_map.is_gendered, normalized)\n",
    "\n",
    "    normalized_copy = map(normalize, split[\"text\"])\n",
    "    filtered_copy = filter(gender_map.is_gendered, normalized_copy)\n",
    "\n",
    "    flipped = map(gender_map.flip, filtered_copy)\n",
    "    return filtered, flipped"
   ]
  },
  {
   "cell_type": "code",
   "execution_count": 5,
   "metadata": {},
   "outputs": [],
   "source": [
    "gender_map = GenderMap(r\"gendered_words/gendered_words.json\")\n",
    "\n",
    "train_filtered, train_flipped = process_split(train, gender_map)\n",
    "val_filtered, val_flipped = process_split(validation, gender_map)\n",
    "test_filtered, test_flipped = process_split(test, gender_map)"
   ]
  },
  {
   "cell_type": "code",
   "execution_count": 6,
   "metadata": {},
   "outputs": [
    {
     "data": {
      "text/html": [
       "<div>\n",
       "<style scoped>\n",
       "    .dataframe tbody tr th:only-of-type {\n",
       "        vertical-align: middle;\n",
       "    }\n",
       "\n",
       "    .dataframe tbody tr th {\n",
       "        vertical-align: top;\n",
       "    }\n",
       "\n",
       "    .dataframe thead th {\n",
       "        text-align: right;\n",
       "    }\n",
       "</style>\n",
       "<table border=\"1\" class=\"dataframe\">\n",
       "  <thead>\n",
       "    <tr style=\"text-align: right;\">\n",
       "      <th></th>\n",
       "      <th>original</th>\n",
       "      <th>flipped</th>\n",
       "    </tr>\n",
       "  </thead>\n",
       "  <tbody>\n",
       "    <tr>\n",
       "      <th>434354</th>\n",
       "      <td>newman was nominated for a golden globe award ...</td>\n",
       "      <td>newman was nominated for a golden globe award ...</td>\n",
       "    </tr>\n",
       "    <tr>\n",
       "      <th>434355</th>\n",
       "      <td>bert gordon - nominated villain</td>\n",
       "      <td>bert gordon - nominated villainess</td>\n",
       "    </tr>\n",
       "    <tr>\n",
       "      <th>434356</th>\n",
       "      <td>in the decades since its release , the hustler...</td>\n",
       "      <td>in the decades since its release , the hustler...</td>\n",
       "    </tr>\n",
       "    <tr>\n",
       "      <th>434357</th>\n",
       "      <td>paul newman reprised his role as fast eddie fe...</td>\n",
       "      <td>paul newman reprised her role as fast eddie fe...</td>\n",
       "    </tr>\n",
       "    <tr>\n",
       "      <th>434358</th>\n",
       "      <td>the hustler is credited with sparking a resurg...</td>\n",
       "      <td>the hustler is credited with sparking a resurg...</td>\n",
       "    </tr>\n",
       "  </tbody>\n",
       "</table>\n",
       "</div>"
      ],
      "text/plain": [
       "                                                 original  \\\n",
       "434354  newman was nominated for a golden globe award ...   \n",
       "434355                    bert gordon - nominated villain   \n",
       "434356  in the decades since its release , the hustler...   \n",
       "434357  paul newman reprised his role as fast eddie fe...   \n",
       "434358  the hustler is credited with sparking a resurg...   \n",
       "\n",
       "                                                  flipped  \n",
       "434354  newman was nominated for a golden globe award ...  \n",
       "434355                 bert gordon - nominated villainess  \n",
       "434356  in the decades since its release , the hustler...  \n",
       "434357  paul newman reprised her role as fast eddie fe...  \n",
       "434358  the hustler is credited with sparking a resurg...  "
      ]
     },
     "execution_count": 6,
     "metadata": {},
     "output_type": "execute_result"
    }
   ],
   "source": [
    "df_train = pd.DataFrame(dict(original=train_filtered, flipped=train_flipped))\n",
    "df_val = pd.DataFrame(dict(original=val_filtered, flipped=val_flipped))\n",
    "df_test = pd.DataFrame(dict(original=test_filtered, flipped=test_flipped))\n",
    "\n",
    "dataframe = pd.concat([df_train, df_val, df_test], ignore_index=True)\n",
    "dataframe.tail()"
   ]
  },
  {
   "cell_type": "code",
   "execution_count": 7,
   "metadata": {},
   "outputs": [],
   "source": [
    "# import tarfile\n",
    "# # download data.tar.gz from https://github.com/SLAB-NLP/BUG/blob/main/data.tar.gz\n",
    "# with tarfile.open(\"data.tar.gz\", 'r:gz') as tar:\n",
    "#     tar.extractall(path=\"data\")"
   ]
  },
  {
   "cell_type": "code",
   "execution_count": 8,
   "metadata": {},
   "outputs": [
    {
     "data": {
      "text/html": [
       "<div>\n",
       "<style scoped>\n",
       "    .dataframe tbody tr th:only-of-type {\n",
       "        vertical-align: middle;\n",
       "    }\n",
       "\n",
       "    .dataframe tbody tr th {\n",
       "        vertical-align: top;\n",
       "    }\n",
       "\n",
       "    .dataframe thead th {\n",
       "        text-align: right;\n",
       "    }\n",
       "</style>\n",
       "<table border=\"1\" class=\"dataframe\">\n",
       "  <thead>\n",
       "    <tr style=\"text-align: right;\">\n",
       "      <th></th>\n",
       "      <th>original</th>\n",
       "      <th>flipped</th>\n",
       "    </tr>\n",
       "  </thead>\n",
       "  <tbody>\n",
       "    <tr>\n",
       "      <th>105682</th>\n",
       "      <td>but because no one had distinctly specified ex...</td>\n",
       "      <td>but because no one had distinctly specified ex...</td>\n",
       "    </tr>\n",
       "    <tr>\n",
       "      <th>105683</th>\n",
       "      <td>they point out that analysing yourself does n'...</td>\n",
       "      <td>they point out that analysing yourself does n'...</td>\n",
       "    </tr>\n",
       "    <tr>\n",
       "      <th>105684</th>\n",
       "      <td>give it to any person with - out calling it by...</td>\n",
       "      <td>give it to any person with - out calling it by...</td>\n",
       "    </tr>\n",
       "    <tr>\n",
       "      <th>105685</th>\n",
       "      <td>from this verse we can understand that , first...</td>\n",
       "      <td>from this verse we can understand that , first...</td>\n",
       "    </tr>\n",
       "    <tr>\n",
       "      <th>105686</th>\n",
       "      <td>\" artist sets fire to himself</td>\n",
       "      <td>\" artist sets fire to herself</td>\n",
       "    </tr>\n",
       "  </tbody>\n",
       "</table>\n",
       "</div>"
      ],
      "text/plain": [
       "                                                 original  \\\n",
       "105682  but because no one had distinctly specified ex...   \n",
       "105683  they point out that analysing yourself does n'...   \n",
       "105684  give it to any person with - out calling it by...   \n",
       "105685  from this verse we can understand that , first...   \n",
       "105686                      \" artist sets fire to himself   \n",
       "\n",
       "                                                  flipped  \n",
       "105682  but because no one had distinctly specified ex...  \n",
       "105683  they point out that analysing yourself does n'...  \n",
       "105684  give it to any person with - out calling it by...  \n",
       "105685  from this verse we can understand that , first...  \n",
       "105686                      \" artist sets fire to herself  "
      ]
     },
     "execution_count": 8,
     "metadata": {},
     "output_type": "execute_result"
    }
   ],
   "source": [
    "full_BUG = pd.read_csv(\"data/data/full_BUG.csv\")[\"sentence_text\"]\n",
    "\n",
    "new_df = pd.DataFrame(columns=[\"original\"])\n",
    "new_df[\"original\"] = full_BUG.str.lower().str.strip()\n",
    "new_df[\"flipped\"] = new_df.apply(gender_map.flip_series, axis=1)\n",
    "new_df.tail()"
   ]
  },
  {
   "cell_type": "code",
   "execution_count": 9,
   "metadata": {},
   "outputs": [
    {
     "data": {
      "text/html": [
       "<div>\n",
       "<style scoped>\n",
       "    .dataframe tbody tr th:only-of-type {\n",
       "        vertical-align: middle;\n",
       "    }\n",
       "\n",
       "    .dataframe tbody tr th {\n",
       "        vertical-align: top;\n",
       "    }\n",
       "\n",
       "    .dataframe thead th {\n",
       "        text-align: right;\n",
       "    }\n",
       "</style>\n",
       "<table border=\"1\" class=\"dataframe\">\n",
       "  <thead>\n",
       "    <tr style=\"text-align: right;\">\n",
       "      <th></th>\n",
       "      <th>original</th>\n",
       "      <th>flipped</th>\n",
       "    </tr>\n",
       "  </thead>\n",
       "  <tbody>\n",
       "    <tr>\n",
       "      <th>540041</th>\n",
       "      <td>but because no one had distinctly specified ex...</td>\n",
       "      <td>but because no one had distinctly specified ex...</td>\n",
       "    </tr>\n",
       "    <tr>\n",
       "      <th>540042</th>\n",
       "      <td>they point out that analysing yourself does n'...</td>\n",
       "      <td>they point out that analysing yourself does n'...</td>\n",
       "    </tr>\n",
       "    <tr>\n",
       "      <th>540043</th>\n",
       "      <td>give it to any person with - out calling it by...</td>\n",
       "      <td>give it to any person with - out calling it by...</td>\n",
       "    </tr>\n",
       "    <tr>\n",
       "      <th>540044</th>\n",
       "      <td>from this verse we can understand that , first...</td>\n",
       "      <td>from this verse we can understand that , first...</td>\n",
       "    </tr>\n",
       "    <tr>\n",
       "      <th>540045</th>\n",
       "      <td>\" artist sets fire to himself</td>\n",
       "      <td>\" artist sets fire to herself</td>\n",
       "    </tr>\n",
       "  </tbody>\n",
       "</table>\n",
       "</div>"
      ],
      "text/plain": [
       "                                                 original  \\\n",
       "540041  but because no one had distinctly specified ex...   \n",
       "540042  they point out that analysing yourself does n'...   \n",
       "540043  give it to any person with - out calling it by...   \n",
       "540044  from this verse we can understand that , first...   \n",
       "540045                      \" artist sets fire to himself   \n",
       "\n",
       "                                                  flipped  \n",
       "540041  but because no one had distinctly specified ex...  \n",
       "540042  they point out that analysing yourself does n'...  \n",
       "540043  give it to any person with - out calling it by...  \n",
       "540044  from this verse we can understand that , first...  \n",
       "540045                      \" artist sets fire to herself  "
      ]
     },
     "execution_count": 9,
     "metadata": {},
     "output_type": "execute_result"
    }
   ],
   "source": [
    "dataframe = pd.concat([dataframe, new_df], ignore_index=True)\n",
    "dataframe.tail()"
   ]
  },
  {
   "cell_type": "code",
   "execution_count": 10,
   "metadata": {},
   "outputs": [],
   "source": [
    "dataframe.to_csv(\"corpus.csv\", index=True)"
   ]
  }
 ],
 "metadata": {
  "kernelspec": {
   "display_name": "Python 3",
   "language": "python",
   "name": "python3"
  },
  "language_info": {
   "codemirror_mode": {
    "name": "ipython",
    "version": 3
   },
   "file_extension": ".py",
   "mimetype": "text/x-python",
   "name": "python",
   "nbconvert_exporter": "python",
   "pygments_lexer": "ipython3",
   "version": "3.11.0"
  }
 },
 "nbformat": 4,
 "nbformat_minor": 2
}
