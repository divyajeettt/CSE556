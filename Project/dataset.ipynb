{
 "cells": [
  {
   "cell_type": "code",
   "execution_count": 3,
   "metadata": {},
   "outputs": [],
   "source": [
    "import csv\n",
    "import json\n",
    "from datasets import load_dataset\n",
    "from gendermap import GenderMap"
   ]
  },
  {
   "cell_type": "code",
   "execution_count": 4,
   "metadata": {},
   "outputs": [],
   "source": [
    "dataset = load_dataset(\"wikitext\", \"wikitext-103-v1\")"
   ]
  },
  {
   "cell_type": "code",
   "execution_count": 5,
   "metadata": {},
   "outputs": [],
   "source": [
    "train = dataset[\"train\"]\n",
    "validation = dataset[\"validation\"]\n",
    "test = dataset[\"test\"]"
   ]
  },
  {
   "cell_type": "code",
   "execution_count": 6,
   "metadata": {},
   "outputs": [
    {
     "data": {
      "text/plain": [
       "1809468"
      ]
     },
     "execution_count": 6,
     "metadata": {},
     "output_type": "execute_result"
    }
   ],
   "source": [
    "len(train) + len(validation) + len(test)"
   ]
  },
  {
   "cell_type": "code",
   "execution_count": 7,
   "metadata": {},
   "outputs": [],
   "source": [
    "gender_map = GenderMap(r\"gendered_words/gendered_words.json\")"
   ]
  },
  {
   "cell_type": "code",
   "execution_count": 15,
   "metadata": {},
   "outputs": [],
   "source": [
    "def prepare_json(datasplit, start=0):\n",
    "    json_data = {}\n",
    "    for i, line in enumerate(datasplit[\"text\"], start=start):\n",
    "        line = line.strip().lower()\n",
    "        flipped = gender_map.flip(line).strip()\n",
    "        if line != flipped:\n",
    "            json_data[i] = [line, flipped]\n",
    "    return json_data\n",
    "\n",
    "json_data = prepare_json(train)\n",
    "json_data.update(prepare_json(validation, start=len(json_data)))\n",
    "json_data.update(prepare_json(test, start=len(json_data)))"
   ]
  },
  {
   "cell_type": "code",
   "execution_count": 18,
   "metadata": {},
   "outputs": [
    {
     "name": "stdout",
     "output_type": "stream",
     "text": [
      "437571\n"
     ]
    }
   ],
   "source": [
    "print(len(json_data))"
   ]
  },
  {
   "cell_type": "code",
   "execution_count": 74,
   "metadata": {},
   "outputs": [],
   "source": [
    "# import tarfile\n",
    "# download data.tar.gz from https://github.com/SLAB-NLP/BUG/blob/main/data.tar.gz\n",
    "# with tarfile.open(\"data.tar.gz\", 'r:gz') as tar:\n",
    "#     tar.extractall(path=\"data\")"
   ]
  },
  {
   "cell_type": "code",
   "execution_count": 23,
   "metadata": {},
   "outputs": [],
   "source": [
    "with open(\"data/data/full_BUG.csv\") as file:\n",
    "    reader = csv.reader(file)\n",
    "    next(reader)\n",
    "    counter = len(json_data)\n",
    "    while True:\n",
    "        try:\n",
    "            row = next(reader)\n",
    "            line = row[1].strip().lower()\n",
    "            flipped = gender_map.flip(line).strip()\n",
    "            if line != flipped:\n",
    "                json_data[counter] = [line, flipped]\n",
    "                counter += 1\n",
    "        except StopIteration:\n",
    "            break\n",
    "        except (UnicodeDecodeError, IndexError):\n",
    "            continue\n",
    "\n",
    "with open(\"corpus.json\", \"w\") as file:\n",
    "    json.dump(json_data, file, indent=4)"
   ]
  },
  {
   "cell_type": "code",
   "execution_count": 25,
   "metadata": {},
   "outputs": [
    {
     "name": "stdout",
     "output_type": "stream",
     "text": [
      "525574\n"
     ]
    }
   ],
   "source": [
    "print(len(json_data))\n",
    "json_data.clear()\n",
    "del json_data"
   ]
  }
 ],
 "metadata": {
  "kernelspec": {
   "display_name": "Python 3",
   "language": "python",
   "name": "python3"
  },
  "language_info": {
   "codemirror_mode": {
    "name": "ipython",
    "version": 3
   },
   "file_extension": ".py",
   "mimetype": "text/x-python",
   "name": "python",
   "nbconvert_exporter": "python",
   "pygments_lexer": "ipython3",
   "version": "3.11.0"
  }
 },
 "nbformat": 4,
 "nbformat_minor": 2
}
