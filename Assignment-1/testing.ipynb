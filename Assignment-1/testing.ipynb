{
 "cells": [
  {
   "cell_type": "code",
   "execution_count": 1,
   "metadata": {},
   "outputs": [],
   "source": [
    "from A1_Q2_1_2021565 import BiGramLM\n",
    "import numpy as np\n",
    "import math"
   ]
  },
  {
   "cell_type": "code",
   "execution_count": 2,
   "metadata": {},
   "outputs": [
    {
     "name": "stdout",
     "output_type": "stream",
     "text": [
      "Tokenizing\n",
      "Preprocessing\n",
      "Populating table\n",
      "Calculating probabilities\n"
     ]
    }
   ],
   "source": [
    "raw = open('Dataset/corpus.txt', 'r').read().replace('\\n', ' ')\n",
    "lm = BiGramLM(raw)"
   ]
  },
  {
   "cell_type": "code",
   "execution_count": 5,
   "metadata": {},
   "outputs": [
    {
     "name": "stdout",
     "output_type": "stream",
     "text": [
      "910 585\n"
     ]
    }
   ],
   "source": [
    "a = lm.getfreq('i')\n",
    "s = 0\n",
    "for w in lm.tokenizer.tokens:\n",
    "    s += lm.getfreq('i',w)\n",
    "\n",
    "print(a,s)"
   ]
  },
  {
   "cell_type": "code",
   "execution_count": 6,
   "metadata": {},
   "outputs": [
    {
     "data": {
      "text/plain": [
       "'i am back to the way it i made up but'"
      ]
     },
     "execution_count": 6,
     "metadata": {},
     "output_type": "execute_result"
    }
   ],
   "source": [
    "lm.generate(10,start='i')"
   ]
  },
  {
   "cell_type": "code",
   "execution_count": 7,
   "metadata": {},
   "outputs": [
    {
     "name": "stdout",
     "output_type": "stream",
     "text": [
      "sid\n"
     ]
    }
   ],
   "source": [
    "tokens = lm.tokenizer.tokenize('siddhant rai viksit is a bigass genius')\n",
    "for t in tokens:\n",
    "    if t not in lm.tokenizer.tokens:\n",
    "        print(t)"
   ]
  },
  {
   "cell_type": "code",
   "execution_count": 3,
   "metadata": {},
   "outputs": [
    {
     "name": "stderr",
     "output_type": "stream",
     "text": [
      "C:\\Users\\gopal\\AppData\\Local\\Packages\\PythonSoftwareFoundation.Python.3.9_qbz5n2kfra8p0\\LocalCache\\local-packages\\Python39\\site-packages\\tqdm\\auto.py:21: TqdmWarning: IProgress not found. Please update jupyter and ipywidgets. See https://ipywidgets.readthedocs.io/en/stable/user_install.html\n",
      "  from .autonotebook import tqdm as notebook_tqdm\n",
      "All model checkpoint layers were used when initializing TFDistilBertForSequenceClassification.\n",
      "\n",
      "All the layers of TFDistilBertForSequenceClassification were initialized from the model checkpoint at bhadresh-savani/distilbert-base-uncased-emotion.\n",
      "If your task is similar to the task the model of the checkpoint was trained on, you can already use TFDistilBertForSequenceClassification for predictions without further training.\n",
      "C:\\Users\\gopal\\AppData\\Local\\Packages\\PythonSoftwareFoundation.Python.3.9_qbz5n2kfra8p0\\LocalCache\\local-packages\\Python39\\site-packages\\transformers\\pipelines\\text_classification.py:105: UserWarning: `return_all_scores` is now deprecated,  if want a similar functionality use `top_k=None` instead of `return_all_scores=True` or `top_k=1` instead of `return_all_scores=False`.\n",
      "  warnings.warn(\n"
     ]
    }
   ],
   "source": [
    "from utils import emotion_scores"
   ]
  },
  {
   "cell_type": "code",
   "execution_count": 5,
   "metadata": {},
   "outputs": [],
   "source": [
    "emotion_token = {}\n",
    "for i in lm.tokenizer.tokens:\n",
    "    emotion_token[i] = emotion_scores(i)"
   ]
  },
  {
   "cell_type": "code",
   "execution_count": 6,
   "metadata": {},
   "outputs": [],
   "source": [
    "emotions = {'sadness','joy','love','anger','fear','surprise'}"
   ]
  },
  {
   "cell_type": "code",
   "execution_count": 7,
   "metadata": {},
   "outputs": [
    {
     "name": "stdout",
     "output_type": "stream",
     "text": [
      "Tokenizing\n",
      "Preprocessing\n",
      "Populating table\n",
      "Calculating probabilities\n",
      "Calculating modified probabilites\n",
      "Emotion being considered:  love\n",
      "like aint supporting lovely passen lovely memories ret liked adoring nesses\n",
      "Score of generated sample using given function: \n",
      "[{'label': 'sadness', 'score': 0.0008595772669650614}, {'label': 'joy', 'score': 0.001583574339747429}, {'label': 'love', 'score': 0.9956211447715759}, {'label': 'anger', 'score': 0.0006359113613143563}, {'label': 'fear', 'score': 0.00037557934410870075}, {'label': 'surprise', 'score': 0.0009242357918992639}]\n",
      "Tokenizing\n",
      "Preprocessing\n",
      "Populating table\n",
      "Calculating probabilities\n",
      "Calculating modified probabilites\n",
      "Emotion being considered:  surprise\n",
      "fab awe awe of amazing amazed to ace isode amazed surprised\n",
      "Score of generated sample using given function: \n",
      "[{'label': 'sadness', 'score': 0.001171666313894093}, {'label': 'joy', 'score': 0.0018676816252991557}, {'label': 'love', 'score': 0.0011481072288006544}, {'label': 'anger', 'score': 0.0007959079230204225}, {'label': 'fear', 'score': 0.003562142373993993}, {'label': 'surprise', 'score': 0.9914544820785522}]\n",
      "Tokenizing\n",
      "Preprocessing\n",
      "Populating table\n",
      "Calculating probabilities\n",
      "Calculating modified probabilites\n",
      "Emotion being considered:  fear\n",
      "istr outing hausting weeken wered entr puts ichel liding entering solidation\n",
      "Score of generated sample using given function: \n",
      "[{'label': 'sadness', 'score': 0.02909424901008606}, {'label': 'joy', 'score': 0.2686672508716583}, {'label': 'love', 'score': 0.003970801830291748}, {'label': 'anger', 'score': 0.35548296570777893}, {'label': 'fear', 'score': 0.33825230598449707}, {'label': 'surprise', 'score': 0.004532400518655777}]\n",
      "Tokenizing\n",
      "Preprocessing\n",
      "Populating table\n",
      "Calculating probabilities\n",
      "Calculating modified probabilites\n",
      "Emotion being considered:  anger\n",
      "ation acist mon des ide abel imately stan hist alists vident\n",
      "Score of generated sample using given function: \n",
      "[{'label': 'sadness', 'score': 0.04539349302649498}, {'label': 'joy', 'score': 0.443224161863327}, {'label': 'love', 'score': 0.0068868906237185}, {'label': 'anger', 'score': 0.4631038308143616}, {'label': 'fear', 'score': 0.03768948093056679}, {'label': 'surprise', 'score': 0.00370226614177227}]\n",
      "Tokenizing\n",
      "Preprocessing\n",
      "Populating table\n",
      "Calculating probabilities\n",
      "Calculating modified probabilites\n",
      "Emotion being considered:  sadness\n",
      "ick rel vis whe homesick tes auses causing illed adaches lies\n",
      "Score of generated sample using given function: \n",
      "[{'label': 'sadness', 'score': 0.9987969398498535}, {'label': 'joy', 'score': 0.00021159577590879053}, {'label': 'love', 'score': 0.00014912887127138674}, {'label': 'anger', 'score': 0.0003902117896359414}, {'label': 'fear', 'score': 0.0003501475148368627}, {'label': 'surprise', 'score': 0.00010200954420724884}]\n",
      "Tokenizing\n",
      "Preprocessing\n",
      "Populating table\n",
      "Calculating probabilities\n",
      "Calculating modified probabilites\n",
      "Emotion being considered:  joy\n",
      "t sported romant bright stat acting its automation ctor pul suspe\n",
      "Score of generated sample using given function: \n",
      "[{'label': 'sadness', 'score': 0.0012770147295668721}, {'label': 'joy', 'score': 0.9932117462158203}, {'label': 'love', 'score': 0.000874189252499491}, {'label': 'anger', 'score': 0.003380217356607318}, {'label': 'fear', 'score': 0.0008996401447802782}, {'label': 'surprise', 'score': 0.000357200886355713}]\n"
     ]
    }
   ],
   "source": [
    "from A1_Q2_3_2021475 import ModifiedBiGramLM\n",
    "\n",
    "for i in emotions:\n",
    "    lm_e = ModifiedBiGramLM(i,raw,emotion_token=emotion_token)\n",
    "    print(\"Emotion being considered: \",i)\n",
    "    sample = lm_e.generate(10)\n",
    "    print(sample)\n",
    "    print(\"Score of generated sample using given function: \")\n",
    "    print(emotion_scores(sample))"
   ]
  }
 ],
 "metadata": {
  "kernelspec": {
   "display_name": "base",
   "language": "python",
   "name": "python3"
  },
  "language_info": {
   "codemirror_mode": {
    "name": "ipython",
    "version": 3
   },
   "file_extension": ".py",
   "mimetype": "text/x-python",
   "name": "python",
   "nbconvert_exporter": "python",
   "pygments_lexer": "ipython3",
   "version": "3.9.13"
  }
 },
 "nbformat": 4,
 "nbformat_minor": 2
}
