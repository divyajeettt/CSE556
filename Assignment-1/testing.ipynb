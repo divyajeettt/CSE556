{
 "cells": [
  {
   "cell_type": "code",
   "execution_count": 3,
   "metadata": {},
   "outputs": [],
   "source": [
    "from A1_Q2_1_2021565 import BiGramLM\n",
    "import numpy as np\n",
    "import math"
   ]
  },
  {
   "cell_type": "code",
   "execution_count": 4,
   "metadata": {},
   "outputs": [
    {
     "name": "stdout",
     "output_type": "stream",
     "text": [
      "Tokenizing\n",
      "Preprocessing\n",
      "Populating table\n",
      "Calculating probabilities\n"
     ]
    }
   ],
   "source": [
    "raw = open('Dataset/corpus.txt', 'r').read().replace('\\n', ' ')\n",
    "lm = BiGramLM(raw,smoothing='kneser-ney')"
   ]
  },
  {
   "cell_type": "code",
   "execution_count": 5,
   "metadata": {},
   "outputs": [
    {
     "name": "stdout",
     "output_type": "stream",
     "text": [
      "910 585\n"
     ]
    }
   ],
   "source": [
    "a = lm.getfreq('i')\n",
    "s = 0\n",
    "for w in lm.tokenizer.tokens:\n",
    "    s += lm.getfreq('i',w)\n",
    "\n",
    "print(a,s)"
   ]
  },
  {
   "cell_type": "code",
   "execution_count": 6,
   "metadata": {},
   "outputs": [
    {
     "data": {
      "text/plain": [
       "'i am back to the way it i made up but'"
      ]
     },
     "execution_count": 6,
     "metadata": {},
     "output_type": "execute_result"
    }
   ],
   "source": [
    "lm.generate(10,start='i')"
   ]
  },
  {
   "cell_type": "code",
   "execution_count": 7,
   "metadata": {},
   "outputs": [
    {
     "name": "stdout",
     "output_type": "stream",
     "text": [
      "sid\n"
     ]
    }
   ],
   "source": [
    "tokens = lm.tokenizer.tokenize('siddhant rai viksit is a bigass genius')\n",
    "for t in tokens:\n",
    "    if t not in lm.tokenizer.tokens:\n",
    "        print(t)"
   ]
  },
  {
   "cell_type": "code",
   "execution_count": 1,
   "metadata": {},
   "outputs": [
    {
     "name": "stderr",
     "output_type": "stream",
     "text": [
      "/Users/pr0hum/Documents/JalebiBoi/work/lib/python3.9/site-packages/urllib3/__init__.py:35: NotOpenSSLWarning: urllib3 v2 only supports OpenSSL 1.1.1+, currently the 'ssl' module is compiled with 'LibreSSL 2.8.3'. See: https://github.com/urllib3/urllib3/issues/3020\n",
      "  warnings.warn(\n",
      "/Users/pr0hum/Documents/JalebiBoi/work/lib/python3.9/site-packages/tqdm/auto.py:21: TqdmWarning: IProgress not found. Please update jupyter and ipywidgets. See https://ipywidgets.readthedocs.io/en/stable/user_install.html\n",
      "  from .autonotebook import tqdm as notebook_tqdm\n",
      "pytorch_model.bin: 100%|██████████| 268M/268M [00:05<00:00, 48.0MB/s] \n",
      "tokenizer_config.json: 100%|██████████| 291/291 [00:00<00:00, 121kB/s]\n",
      "vocab.txt: 100%|██████████| 232k/232k [00:00<00:00, 551kB/s]\n",
      "special_tokens_map.json: 100%|██████████| 112/112 [00:00<00:00, 58.2kB/s]\n",
      "/Users/pr0hum/Documents/JalebiBoi/work/lib/python3.9/site-packages/transformers/pipelines/text_classification.py:105: UserWarning: `return_all_scores` is now deprecated,  if want a similar functionality use `top_k=None` instead of `return_all_scores=True` or `top_k=1` instead of `return_all_scores=False`.\n",
      "  warnings.warn(\n"
     ]
    }
   ],
   "source": [
    "from utils import emotion_scores"
   ]
  },
  {
   "cell_type": "code",
   "execution_count": 8,
   "metadata": {},
   "outputs": [],
   "source": [
    "emotion_token = {}\n",
    "for i in lm.tokenizer.tokens:\n",
    "    emotion_token[i] = emotion_scores(i)"
   ]
  },
  {
   "cell_type": "code",
   "execution_count": 9,
   "metadata": {},
   "outputs": [
    {
     "name": "stdout",
     "output_type": "stream",
     "text": [
      "Tokenizing\n",
      "Preprocessing\n",
      "Populating table\n",
      "Calculating probabilities\n",
      "Calculating modified probabilites\n"
     ]
    }
   ],
   "source": [
    "from A1_Q2_3_2021475 import ModifiedBiGramLM\n",
    "\n",
    "lm_e = ModifiedBiGramLM('surprise',raw,emotion_token=emotion_token)"
   ]
  },
  {
   "cell_type": "code",
   "execution_count": 10,
   "metadata": {},
   "outputs": [
    {
     "data": {
      "text/plain": [
       "'hart ader weird amazed ist shocked sen surprised restart l his'"
      ]
     },
     "execution_count": 10,
     "metadata": {},
     "output_type": "execute_result"
    }
   ],
   "source": [
    "lm_e.generate(10)"
   ]
  },
  {
   "cell_type": "code",
   "execution_count": 11,
   "metadata": {},
   "outputs": [
    {
     "name": "stdout",
     "output_type": "stream",
     "text": [
      "[{'label': 'sadness', 'score': 0.0010256939567625523}, {'label': 'joy', 'score': 0.0013578340876847506}, {'label': 'love', 'score': 0.0013963199453428388}, {'label': 'anger', 'score': 0.0007607183651998639}, {'label': 'fear', 'score': 0.023917796090245247}, {'label': 'surprise', 'score': 0.9715416431427002}]\n"
     ]
    }
   ],
   "source": [
    "print(emotion_scores('href desire curious when ness comato reshaped nony cted overwhelmed ived'))"
   ]
  }
 ],
 "metadata": {
  "kernelspec": {
   "display_name": "base",
   "language": "python",
   "name": "python3"
  },
  "language_info": {
   "codemirror_mode": {
    "name": "ipython",
    "version": 3
   },
   "file_extension": ".py",
   "mimetype": "text/x-python",
   "name": "python",
   "nbconvert_exporter": "python",
   "pygments_lexer": "ipython3",
   "version": "3.9.6"
  }
 },
 "nbformat": 4,
 "nbformat_minor": 2
}
