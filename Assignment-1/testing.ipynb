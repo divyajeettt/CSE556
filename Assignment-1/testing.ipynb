{
 "cells": [
  {
   "cell_type": "code",
   "execution_count": 2,
   "metadata": {},
   "outputs": [],
   "source": [
    "from A1_Q2_1_2021565 import BiGramLM\n",
    "import numpy as np\n",
    "import math"
   ]
  },
  {
   "cell_type": "code",
   "execution_count": 3,
   "metadata": {},
   "outputs": [
    {
     "name": "stdout",
     "output_type": "stream",
     "text": [
      "Tokenizing\n",
      "Preprocessing\n",
      "Populating table\n",
      "Calculating probabilities\n"
     ]
    }
   ],
   "source": [
    "raw = open('Dataset/corpus.txt', 'r').read().replace('\\n', ' ')\n",
    "lm = BiGramLM(raw,smoothing='kneser-ney')"
   ]
  },
  {
   "cell_type": "code",
   "execution_count": 8,
   "metadata": {},
   "outputs": [
    {
     "name": "stdout",
     "output_type": "stream",
     "text": [
      "910 585\n"
     ]
    }
   ],
   "source": [
    "a = lm.getfreq('i')\n",
    "s = 0\n",
    "for w in lm.tokenizer.tokens:\n",
    "    s += lm.getfreq('i',w)\n",
    "\n",
    "print(a,s)"
   ]
  },
  {
   "cell_type": "code",
   "execution_count": 13,
   "metadata": {},
   "outputs": [
    {
     "data": {
      "text/plain": [
       "'i i also about the up not known about when non'"
      ]
     },
     "execution_count": 13,
     "metadata": {},
     "output_type": "execute_result"
    }
   ],
   "source": [
    "lm.generate(10,start='i')"
   ]
  },
  {
   "cell_type": "code",
   "execution_count": 7,
   "metadata": {},
   "outputs": [
    {
     "name": "stdout",
     "output_type": "stream",
     "text": [
      "sid\n"
     ]
    }
   ],
   "source": [
    "tokens = lm.tokenizer.tokenize('siddhant rai viksit is a bigass genius')\n",
    "for t in tokens:\n",
    "    if t not in lm.tokenizer.tokens:\n",
    "        print(t)"
   ]
  },
  {
   "cell_type": "code",
   "execution_count": 5,
   "metadata": {},
   "outputs": [],
   "source": [
    "from utils import emotion_scores"
   ]
  },
  {
   "cell_type": "code",
   "execution_count": 6,
   "metadata": {},
   "outputs": [],
   "source": [
    "emotion_token = {}\n",
    "for i in lm.tokenizer.tokens:\n",
    "    emotion_token[i] = emotion_scores(i)"
   ]
  },
  {
   "cell_type": "code",
   "execution_count": 15,
   "metadata": {},
   "outputs": [
    {
     "name": "stdout",
     "output_type": "stream",
     "text": [
      "Tokenizing\n",
      "Preprocessing\n",
      "Populating table\n",
      "Calculating probabilities\n",
      "Calculating modified probabilites\n"
     ]
    }
   ],
   "source": [
    "from A1_Q2_3_2021475 import ModifiedBiGramLM\n",
    "\n",
    "lm_e = ModifiedBiGramLM('surprise',raw,emotion_token=emotion_token)"
   ]
  },
  {
   "cell_type": "code",
   "execution_count": 17,
   "metadata": {},
   "outputs": [
    {
     "data": {
      "text/plain": [
       "'href desire curious when ness comato reshaped nony cted overwhelmed ived'"
      ]
     },
     "execution_count": 17,
     "metadata": {},
     "output_type": "execute_result"
    }
   ],
   "source": [
    "lm_e.generate(10)"
   ]
  },
  {
   "cell_type": "code",
   "execution_count": 18,
   "metadata": {},
   "outputs": [
    {
     "name": "stdout",
     "output_type": "stream",
     "text": [
      "[{'label': 'sadness', 'score': 0.001025694771669805}, {'label': 'joy', 'score': 0.0013578357174992561}, {'label': 'love', 'score': 0.0013963197125121951}, {'label': 'anger', 'score': 0.0007607197621837258}, {'label': 'fear', 'score': 0.02391795627772808}, {'label': 'surprise', 'score': 0.9715415239334106}]\n"
     ]
    }
   ],
   "source": [
    "print(emotion_scores('href desire curious when ness comato reshaped nony cted overwhelmed ived'))"
   ]
  }
 ],
 "metadata": {
  "kernelspec": {
   "display_name": "base",
   "language": "python",
   "name": "python3"
  },
  "language_info": {
   "codemirror_mode": {
    "name": "ipython",
    "version": 3
   },
   "file_extension": ".py",
   "mimetype": "text/x-python",
   "name": "python",
   "nbconvert_exporter": "python",
   "pygments_lexer": "ipython3",
   "version": "3.9.13"
  }
 },
 "nbformat": 4,
 "nbformat_minor": 2
}
