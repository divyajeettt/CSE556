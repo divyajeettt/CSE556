{
 "cells": [
  {
   "cell_type": "code",
   "execution_count": 1,
   "metadata": {},
   "outputs": [],
   "source": [
    "from A1_Q2_1_2021565 import BiGramLM\n",
    "import numpy as np\n",
    "import math"
   ]
  },
  {
   "cell_type": "code",
   "execution_count": 2,
   "metadata": {},
   "outputs": [
    {
     "name": "stdout",
     "output_type": "stream",
     "text": [
      "Tokenizing\n",
      "Preprocessing\n",
      "Populating table\n",
      "Calculating probabilities\n"
     ]
    }
   ],
   "source": [
    "raw = open('Dataset/corpus.txt', 'r').read().replace('\\n', ' ')\n",
    "lm = BiGramLM(raw,smoothing='kneser-ney')"
   ]
  },
  {
   "cell_type": "code",
   "execution_count": 8,
   "metadata": {},
   "outputs": [
    {
     "name": "stdout",
     "output_type": "stream",
     "text": [
      "910 585\n"
     ]
    }
   ],
   "source": [
    "a = lm.getfreq('i')\n",
    "s = 0\n",
    "for w in lm.tokenizer.tokens:\n",
    "    s += lm.getfreq('i',w)\n",
    "\n",
    "print(a,s)"
   ]
  },
  {
   "cell_type": "code",
   "execution_count": 9,
   "metadata": {},
   "outputs": [
    {
     "data": {
      "text/plain": [
       "'i was feeling abit like i feel do around not like'"
      ]
     },
     "execution_count": 9,
     "metadata": {},
     "output_type": "execute_result"
    }
   ],
   "source": [
    "lm.generate(10,start='i')"
   ]
  },
  {
   "cell_type": "code",
   "execution_count": 7,
   "metadata": {},
   "outputs": [
    {
     "name": "stdout",
     "output_type": "stream",
     "text": [
      "sid\n"
     ]
    }
   ],
   "source": [
    "tokens = lm.tokenizer.tokenize('siddhant rai viksit is a bigass genius')\n",
    "for t in tokens:\n",
    "    if t not in lm.tokenizer.tokens:\n",
    "        print(t)"
   ]
  }
 ],
 "metadata": {
  "kernelspec": {
   "display_name": "base",
   "language": "python",
   "name": "python3"
  },
  "language_info": {
   "codemirror_mode": {
    "name": "ipython",
    "version": 3
   },
   "file_extension": ".py",
   "mimetype": "text/x-python",
   "name": "python",
   "nbconvert_exporter": "python",
   "pygments_lexer": "ipython3",
   "version": "3.11.5"
  }
 },
 "nbformat": 4,
 "nbformat_minor": 2
}
