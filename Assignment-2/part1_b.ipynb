{
 "cells": [
  {
   "cell_type": "code",
   "execution_count": 2,
   "metadata": {},
   "outputs": [],
   "source": [
    "import json\n",
    "with open(\"ATE/Laptop_Review_Test.json\", \"r\") as f:\n",
    "    data_test = json.load(f)\n",
    "\n",
    "with open(\"ATE/Laptop_Review_Train.json\",\"r\") as f:\n",
    "    data_train = json.load(f)\n",
    "\n",
    "with open(\"ATE/Laptop_Review_Val.json\",\"r\") as f:\n",
    "    data_val = json.load(f)"
   ]
  },
  {
   "cell_type": "code",
   "execution_count": 8,
   "metadata": {},
   "outputs": [],
   "source": [
    "text_test = []\n",
    "text_train = []\n",
    "text_val = []\n",
    "\n",
    "for i in data_val:\n",
    "    text_val.append(i[\"raw_words\"])\n",
    "\n",
    "for i in data_train:\n",
    "    text_train.append(i[\"raw_words\"])\n",
    "\n",
    "for i in data_test:\n",
    "    text_test.append(i[\"raw_words\"])"
   ]
  },
  {
   "cell_type": "code",
   "execution_count": 30,
   "metadata": {},
   "outputs": [],
   "source": [
    "BIO_labels_test = []\n",
    "BIO_labels_train = []\n",
    "BIO_labels_val = []"
   ]
  },
  {
   "cell_type": "code",
   "execution_count": 31,
   "metadata": {},
   "outputs": [],
   "source": [
    "def bio_labels_part2(aspects,tokens):\n",
    "    bio_temp = [\"O\" for _ in range(len(tokens))]\n",
    "    for aspect in aspects:\n",
    "        start_index = aspect[\"from\"]\n",
    "        end_index = aspect[\"to\"]\n",
    "        # label = aspect[\"polarity\"]\n",
    "\n",
    "        bio_temp[start_index] = \"B\"\n",
    "        for i in range(start_index+1,end_index):\n",
    "            bio_temp[i] = \"I\"\n",
    "\n",
    "    return bio_temp"
   ]
  },
  {
   "cell_type": "code",
   "execution_count": 32,
   "metadata": {},
   "outputs": [],
   "source": [
    "for i in range(len(data_test)):\n",
    "    BIO_labels_test.append(bio_labels_part2(data_test[i][\"aspects\"],data_test[i][\"words\"]))"
   ]
  },
  {
   "cell_type": "code",
   "execution_count": 33,
   "metadata": {},
   "outputs": [],
   "source": [
    "for i in range(len(data_train)):\n",
    "    BIO_labels_train.append(bio_labels_part2(data_train[i][\"aspects\"],data_train[i][\"words\"]))"
   ]
  },
  {
   "cell_type": "code",
   "execution_count": 34,
   "metadata": {},
   "outputs": [],
   "source": [
    "for i in range(len(data_val)):\n",
    "    BIO_labels_val.append(bio_labels_part2(data_val[i][\"aspects\"],data_val[i][\"words\"]))"
   ]
  },
  {
   "cell_type": "code",
   "execution_count": 35,
   "metadata": {},
   "outputs": [],
   "source": [
    "data = {}\n",
    "\n",
    "# Iterate over IDs, texts, and labels simultaneously\n",
    "for id_, text, label in zip(range(len(text_test)),text_test, BIO_labels_test):\n",
    "    data[id_] = {\n",
    "        \"text\": text,\n",
    "        \"labels\": label\n",
    "    }\n",
    "\n",
    "# Convert data to JSON string\n",
    "json_string = json.dumps(data, indent=4)\n",
    "with open(\"dataset_2_test.json\", \"w\") as json_file:\n",
    "    json_file.write(json_string)"
   ]
  },
  {
   "cell_type": "code",
   "execution_count": 36,
   "metadata": {},
   "outputs": [],
   "source": [
    "data = {}\n",
    "\n",
    "# Iterate over IDs, texts, and labels simultaneously\n",
    "for id_, text, label in zip(range(len(text_train)),text_train, BIO_labels_train):\n",
    "    data[id_] = {\n",
    "        \"text\": text,\n",
    "        \"labels\": label\n",
    "    }\n",
    "\n",
    "# Convert data to JSON string\n",
    "json_string = json.dumps(data, indent=4)\n",
    "with open(\"dataset_2_train.json\", \"w\") as json_file:\n",
    "    json_file.write(json_string)"
   ]
  },
  {
   "cell_type": "code",
   "execution_count": 37,
   "metadata": {},
   "outputs": [],
   "source": [
    "data = {}\n",
    "\n",
    "# Iterate over IDs, texts, and labels simultaneously\n",
    "for id_, text, label in zip(range(len(text_val)),text_val, BIO_labels_val):\n",
    "    data[id_] = {\n",
    "        \"text\": text,\n",
    "        \"labels\": label\n",
    "    }\n",
    "\n",
    "# Convert data to JSON string\n",
    "json_string = json.dumps(data, indent=4)\n",
    "with open(\"dataset_2_val.json\", \"w\") as json_file:\n",
    "    json_file.write(json_string)"
   ]
  }
 ],
 "metadata": {
  "kernelspec": {
   "display_name": "Python 3",
   "language": "python",
   "name": "python3"
  },
  "language_info": {
   "codemirror_mode": {
    "name": "ipython",
    "version": 3
   },
   "file_extension": ".py",
   "mimetype": "text/x-python",
   "name": "python",
   "nbconvert_exporter": "python",
   "pygments_lexer": "ipython3",
   "version": "3.9.13"
  }
 },
 "nbformat": 4,
 "nbformat_minor": 2
}
