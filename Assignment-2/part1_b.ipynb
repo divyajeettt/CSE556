{
 "cells": [
  {
   "cell_type": "code",
   "execution_count": 1,
   "metadata": {},
   "outputs": [],
   "source": [
    "import json\n",
    "with open(\"ATE/Laptop_Review_Test.json\", \"r\") as f:\n",
    "    data_test = json.load(f)\n",
    "\n",
    "with open(\"ATE/Laptop_Review_Train.json\",\"r\") as f:\n",
    "    data_train = json.load(f)\n",
    "\n",
    "with open(\"ATE/Laptop_Review_Val.json\",\"r\") as f:\n",
    "    data_val = json.load(f)"
   ]
  },
  {
   "cell_type": "code",
   "execution_count": 7,
   "metadata": {},
   "outputs": [
    {
     "name": "stdout",
     "output_type": "stream",
     "text": [
      "Original: Kaur,\n",
      "Modified: Kaur ,\n",
      "\n",
      "Original: 28.07.1988\n",
      "Modified: 28. 07. 1988\n",
      "\n",
      "Original: (pf chang)\n",
      "Modified: (pf chang)\n",
      "\n"
     ]
    }
   ],
   "source": [
    "import re\n",
    "\n",
    "def add_spaces_around_punctuation(text):\n",
    "    # Define a regular expression pattern to match punctuation marks without surrounding spaces\n",
    "    pattern = r'(?<=[^\\s\\d])(?=[.,;:?!])|(?<=[.,;:?!])(?=[^\\s])'\n",
    "\n",
    "    # Add spaces around punctuation marks\n",
    "    modified_text = re.sub(pattern, ' ', text)\n",
    "\n",
    "    return modified_text\n",
    "\n",
    "def add_spaces_around_parentheses(text):\n",
    "    # Define a regular expression pattern to match parentheses without surrounding spaces\n",
    "    pattern = r'(?<=\\w)(\\()|(\\))(?=\\w)'\n",
    "\n",
    "    # Add spaces around parentheses\n",
    "    modified_text = re.sub(pattern, ' \\\\1\\\\2 ', text)\n",
    "\n",
    "    return modified_text\n",
    "\n",
    "# Example sentences\n",
    "sentences = [\n",
    "    \"Kaur,\",\n",
    "    \"28.07.1988\",\n",
    "    \"(pf chang)\"\n",
    "]\n",
    "\n",
    "# Apply both transformations to each sentence\n",
    "modified_sentences = [add_spaces_around_punctuation(add_spaces_around_parentheses(sentence)) for sentence in sentences]\n",
    "\n",
    "# Print modified sentences\n",
    "for original, modified in zip(sentences, modified_sentences):\n",
    "    print(f\"Original: {original}\")\n",
    "    print(f\"Modified: {modified}\")\n",
    "    print()\n"
   ]
  }
 ],
 "metadata": {
  "kernelspec": {
   "display_name": "Python 3",
   "language": "python",
   "name": "python3"
  },
  "language_info": {
   "codemirror_mode": {
    "name": "ipython",
    "version": 3
   },
   "file_extension": ".py",
   "mimetype": "text/x-python",
   "name": "python",
   "nbconvert_exporter": "python",
   "pygments_lexer": "ipython3",
   "version": "3.9.13"
  }
 },
 "nbformat": 4,
 "nbformat_minor": 2
}
