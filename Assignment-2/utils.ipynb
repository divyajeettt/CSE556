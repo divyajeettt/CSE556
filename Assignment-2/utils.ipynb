{
 "cells": [
  {
   "cell_type": "code",
   "execution_count": 1,
   "metadata": {},
   "outputs": [],
   "source": [
    "import os\n",
    "import json\n",
    "import torch\n",
    "import gensim\n",
    "import numpy as np\n",
    "import transformers\n",
    "from typing import Callable\n",
    "from torch.utils.data import Dataset\n",
    "from sklearn.preprocessing import LabelEncoder"
   ]
  },
  {
   "cell_type": "code",
   "execution_count": 3,
   "metadata": {},
   "outputs": [],
   "source": [
    "model = \"Embeddings/GoogleNews-vectors-negative300.bin.gz\"     # Word2Vec\n",
    "embedding = gensim.models.KeyedVectors.load_word2vec_format(model, binary=True)"
   ]
  },
  {
   "cell_type": "code",
   "execution_count": 39,
   "metadata": {},
   "outputs": [
    {
     "name": "stderr",
     "output_type": "stream",
     "text": [
      "C:\\Users\\Divyajeet Singh\\AppData\\Local\\Temp\\ipykernel_4932\\4275181089.py:5: DeprecationWarning: Call to deprecated `glove2word2vec` (KeyedVectors.load_word2vec_format(.., binary=False, no_header=True) loads GLoVE text vectors.).\n",
      "  glove2word2vec(\"Embeddings/glove.42B.300d/glove.42B.300d.txt\", target)\n"
     ]
    }
   ],
   "source": [
    "from gensim.test.utils import get_tmpfile\n",
    "from gensim.scripts.glove2word2vec import glove2word2vec\n",
    "\n",
    "target = get_tmpfile(\"temp.txt\")\n",
    "glove2word2vec(\"Embeddings/glove.42B.300d/glove.42B.300d.txt\", target)\n",
    "\n",
    "model = gensim.models.KeyedVectors.load_word2vec_format(target)\n",
    "\n",
    "model.save_word2vec_format(\"Embeddings/glove.42B.300d.bin.gz\", binary=True)"
   ]
  },
  {
   "cell_type": "code",
   "execution_count": 5,
   "metadata": {},
   "outputs": [],
   "source": [
    "model = \"Embeddings/glove.42B.300d.bin.gz\"                       # GloVe\n",
    "embedding = gensim.models.KeyedVectors.load_word2vec_format(model, binary=True)"
   ]
  },
  {
   "cell_type": "code",
   "execution_count": 7,
   "metadata": {},
   "outputs": [],
   "source": [
    "model = \"Embeddings/cc.en.300.bin.gz\"                          # FastText\n",
    "embedding = gensim.models.fasttext.load_facebook_model(model)"
   ]
  },
  {
   "cell_type": "code",
   "execution_count": 338,
   "metadata": {},
   "outputs": [],
   "source": [
    "def load_dataset(dataset: int, embeddings: str):\n",
    "    \"\"\"\n",
    "    Loads the given dataset and returns the train, test, and validation\n",
    "    sets with the corresponding labels.\n",
    "    :params:\n",
    "        - dataset: The dataset to load. Must be 1 or 2.\n",
    "        - embeddings: The word-embeddings to use. Must be \"Word2Vec\", \"GloVe\", or \"FastText\" (case-insensitive).\n",
    "    \"\"\"\n",
    "\n",
    "    embeddings_err = \"Invalid embeddings. Must be 'Word2Vec', 'GloVe', or 'FastText'.\"\n",
    "    dataset_err = \"Invalid dataset number. Must be 1 or 2.\"\n",
    "    embeddings = embeddings.casefold()\n",
    "\n",
    "    path = r\"Assignment-2/Datasets/preprocessed/\"\n",
    "    train_path, test_path, val_path = [\n",
    "        os.path.join(path, dataset, f\"{dataset}_{x}.json\") for x in [\"train\", \"test\", \"val\"]\n",
    "    ]\n",
    "\n",
    "    assert embeddings in [\"word2vec\", \"glove\", \"fasttext\"], embeddings_err\n",
    "\n",
    "    # path = rf\"Assignment-2/Datasets/preprocessed/dataset_{dataset}\"\n",
    "    # train_path, test_path, val_path = [os.path.join(path, f\"{x}.json\") for x in [\"train\", \"test\", \"val\"]]\n",
    "\n",
    "    with open(train_path) as train, open(test_path) as test, open(val_path) as val:\n",
    "        train_data = json.load(train)\n",
    "        test_data = json.load(test)\n",
    "        val_data = json.load(val)\n",
    "\n",
    "    print(\"Loading Embeddings...\")\n",
    "    if embeddings == \"word2vec\":\n",
    "        model = \"Assignment-2/Embeddings/GoogleNews-vectors-negative300.bin.gz\"\n",
    "        embedding = gensim.models.KeyedVectors.load_word2vec_format(model, binary=True)\n",
    "    elif embeddings == \"glove\":\n",
    "        model = \"Assignment-2/Embeddings/glove.42B.300d.bin.gz\"\n",
    "        embedding = gensim.models.KeyedVectors.load_word2vec_format(model, binary=True)\n",
    "    else:\n",
    "        model = \"Assignment-2/Embeddings/cc.en.300.bin.gz\"\n",
    "        embedding = gensim.models.fasttext.load_facebook_model(model).wv\n",
    "\n",
    "    LABELS = set()\n",
    "    for data in train_data.values():\n",
    "        LABELS.update(data[\"labels\"])\n",
    "    encoder = LabelEncoder()\n",
    "    encoder.fit(sorted(LABELS))\n",
    "\n",
    "    print(\"Preprocessing Data...\")\n",
    "    DATA = [[], []], [[], []], [[], []]\n",
    "    for i, dataset in enumerate([train_data, test_data, val_data]):\n",
    "        for data in dataset.values():\n",
    "            DATA[i][0].append(data[\"text\"].split())\n",
    "            DATA[i][1].append(data[\"labels\"])\n",
    "    (TRAIN_DATA, TRAIN_LABELS), (TEST_DATA, TEST_LABELS), (VAL_DATA, VAL_LABELS) = DATA\n",
    "\n",
    "    train_set = CustomDataset(TRAIN_DATA, TRAIN_LABELS, encoder, embedding)\n",
    "    test_set = CustomDataset(TEST_DATA, TEST_LABELS, encoder, embedding)\n",
    "    val_set = CustomDataset(VAL_DATA, VAL_LABELS, encoder, embedding)\n",
    "\n",
    "    return train_set, test_set, val_set"
   ]
  },
  {
   "cell_type": "code",
   "execution_count": 354,
   "metadata": {},
   "outputs": [],
   "source": [
    "class CustomDataset(Dataset):\n",
    "    \"\"\"\n",
    "    A custom dataset class for dataset_1 and dataset_2.\n",
    "    :attrs:\n",
    "        - data: The data of the dataset. Each element is a list of words.\n",
    "        - labels: The labels of the dataset. Each element is a list of labels\n",
    "            for each word of the sentence.\n",
    "        - encoder: The (already fitted) label-encoder for the labels.\n",
    "        - embedding: The word-embedding to use for the dataset. It must have\n",
    "            a key_to_index attribute attribute (to convert words to indices).\n",
    "\n",
    "    The dataset preprocesses the input data and labels. 'data' is stored as\n",
    "    a Tensor of word-indices, and 'labels' is stored as a Tensor of label-indices.\n",
    "    \"\"\"\n",
    "\n",
    "    data: torch.Tensor\n",
    "    labels: torch.Tensor\n",
    "    encoder: LabelEncoder\n",
    "    embeddings: gensim.models.keyedvectors.KeyedVectors | gensim.models.fasttext.FastTextKeyedVectors\n",
    "\n",
    "    def __init__(self, data: list[list[str]], labels: list[list[str]], encoder, embeddings):\n",
    "        super(CustomDataset, self).__init__()\n",
    "        self.data = data\n",
    "        self.labels = labels\n",
    "        self.encoder = encoder\n",
    "        self.embeddings = embeddings\n",
    "        self._encode()\n",
    "        self._pad()\n",
    "\n",
    "    def __len__(self) -> int:\n",
    "        \"\"\"\n",
    "        Returns the length of the dataset.\n",
    "        \"\"\"\n",
    "        return len(self.data)\n",
    "\n",
    "    def __getitem__(self, index: int) -> tuple[torch.Tensor]:\n",
    "        \"\"\"\n",
    "        Returns the data and target at the given index. Converts each\n",
    "        sentence into a tensor of word indices using the chosen word-embeddings.\n",
    "        \"\"\"\n",
    "        return self.data[index], self.labels[index]\n",
    "\n",
    "    def _encode(self) -> None:\n",
    "        \"\"\"\n",
    "        Converts all sentences to their corresponding word-indices and\n",
    "        encodes the labels using the label-encoder.\n",
    "        \"\"\"\n",
    "        unk = len(self.embeddings.key_to_index) - 1\n",
    "        self.data = [\n",
    "            torch.tensor([self.embeddings.key_to_index.get(word, unk) for word in sentence])\n",
    "            for sentence in self.data\n",
    "        ]\n",
    "        self.labels = [torch.LongTensor(self.encoder.transform(label)) for label in self.labels]\n",
    "\n",
    "    def _pad(self) -> None:\n",
    "        \"\"\"\n",
    "        Pads all sentences to the maximum length. Currently, the padding\n",
    "        value for the labels is set to \"O\", which may not be ideal.\n",
    "        \"\"\"\n",
    "        padding_value = self.encoder.transform([\"O\"])[0]\n",
    "        self.data = torch.nn.utils.rnn.pad_sequence(self.data, batch_first=True)\n",
    "        self.labels = torch.nn.utils.rnn.pad_sequence(self.labels, batch_first=True, padding_value=padding_value)"
   ]
  },
  {
   "cell_type": "code",
   "execution_count": 355,
   "metadata": {},
   "outputs": [
    {
     "name": "stdout",
     "output_type": "stream",
     "text": [
      "Loading Embeddings...\n",
      "Preprocessing Data...\n"
     ]
    }
   ],
   "source": [
    "train_set, test_set, val_set = load_dataset(\"NER\", \"Word2Vec\")\n",
    "\n",
    "encoder = train_set.encoder\n",
    "embeddings = train_set.embeddings\n",
    "# # This part handles the <UNK> token, i.e. OOV words. Currently, OOV words are directly set to 0s, which is not ideal.\n",
    "embedding_matrix = torch.FloatTensor(embeddings.vectors)\n",
    "embedding_matrix = torch.cat([embedding_matrix, torch.zeros(1, embedding_matrix.shape[1])])\n",
    "embedding.key_to_index[\"<UNK>\"] = len(embedding.key_to_index)\n",
    "embedding.index_to_key.append(\"<UNK>\")"
   ]
  },
  {
   "cell_type": "code",
   "execution_count": 203,
   "metadata": {},
   "outputs": [],
   "source": [
    "FASTTEXT_MODEL = e"
   ]
  },
  {
   "cell_type": "code",
   "execution_count": 206,
   "metadata": {},
   "outputs": [
    {
     "data": {
      "text/plain": [
       "gensim.models.fasttext.FastTextKeyedVectors"
      ]
     },
     "execution_count": 206,
     "metadata": {},
     "output_type": "execute_result"
    }
   ],
   "source": [
    "type(FASTTEXT_MODEL.wv)"
   ]
  },
  {
   "cell_type": "code",
   "execution_count": 6,
   "metadata": {},
   "outputs": [],
   "source": [
    "os.chdir(\"..\")"
   ]
  },
  {
   "cell_type": "code",
   "execution_count": 305,
   "metadata": {},
   "outputs": [
    {
     "data": {
      "text/plain": [
       "torch.Size([4, 300])"
      ]
     },
     "execution_count": 305,
     "metadata": {},
     "output_type": "execute_result"
    }
   ],
   "source": [
    "EMBEDING_LAYER = torch.nn.Embedding.from_pretrained(embedding_matrix)\n",
    "word_embedding = EMBEDING_LAYER(torch.tensor([embedding.key_to_index.get(word) for word in \"the quick brown fox\".split()]))\n",
    "word_embedding.shape"
   ]
  },
  {
   "cell_type": "code",
   "execution_count": 306,
   "metadata": {},
   "outputs": [
    {
     "name": "stdout",
     "output_type": "stream",
     "text": [
      "['He', 'was', 'also', 'asked', 'whether', 'Agya', '<span', 'class=\"hidden_text\"', 'id=\"span_5\">', 'CRA', 'No.326-DB', 'of', '1998', '6</span>', 'Kaur,', 'mother-in-law', 'of', 'the', 'deceased', 'lived', 'separately', 'from', 'Tarlochan', 'Singh.']\n",
      "['5.2', 'CW3', 'Mr', 'Vijay', 'Mishra', ',', 'Deputy', 'Manager,', 'HDFC', 'Bank,', 'Noida,', 'UP', 'has', 'deposed', 'that', 'complainant', 'had', 'a', 'current', 'account', 'with', 'HDFC', 'Bank', 'in', 'the', 'year', '2004\\xad2005.']\n",
      "['You', 'are', 'hereby', 'asked', 'not', 'to', 'carry', 'out', 'any', 'construction', 'work', 'of', 'the', 'said', 'building', 'hereafter', 'since', 'the', 'agreement', 'has', 'been', 'terminated\".']\n",
      "['After', 'all', 'the', 'steps', 'at', 'the', 'stage', 'of', 'investigation', 'has', 'to', 'be', 'reported', 'before', 'the', 'Court', 'and', 'the', 'order', 'passed', 'thereon', 'is', 'obviously', 'judicial', 'order', 'and', 'this', 'takes', 'clear', 'note', 'of', 'the', 'agony', 'of', 'the', 'learned', 'Counsels.']\n",
      "['PW--2', 'Chandregowda', 'is', 'the', 'younger', 'brother', 'of', 'bi-hglllltleceased.']\n"
     ]
    }
   ],
   "source": [
    "subset = train_data[:5]\n",
    "for sentence in subset:\n",
    "    print(sentence)"
   ]
  },
  {
   "cell_type": "code",
   "execution_count": 307,
   "metadata": {},
   "outputs": [
    {
     "name": "stdout",
     "output_type": "stream",
     "text": [
      "24 [57, 10, 53, 438, 369, 817011, 3000000, 3000000, 3000000, 30909, 3000000, 3000000, 3000000, 3000000, 3000000, 3000000, 3000000, 11, 9895, 1958, 8019, 17, 1219623, 3000000]\n",
      "27 [3000000, 863288, 602, 30124, 33742, 3000000, 3562, 3000000, 38263, 3000000, 3000000, 13860, 24, 20696, 3, 21322, 35, 3000000, 403, 1201, 8, 38263, 669, 1, 11, 36, 3000000]\n",
      "22 [228, 19, 29224, 438, 13, 3000000, 1635, 49, 101, 984, 141, 3000000, 11, 9, 473, 65530, 140, 11, 729, 24, 42, 3000000]\n",
      "37 [361, 52, 11, 1830, 12, 11, 943, 3000000, 915, 24, 3000000, 16, 343, 99, 11, 1557, 3000000, 11, 555, 1126, 68081, 4, 2633, 5481, 555, 3000000, 28, 920, 645, 1734, 3000000, 11, 20599, 3000000, 11, 1638, 3000000]\n",
      "8 [3000000, 2165064, 4, 11, 2520, 1722, 3000000, 3000000]\n"
     ]
    }
   ],
   "source": [
    "subset = [[embedding.key_to_index.get(word, len(embedding.key_to_index)-1) for word in sentence] for sentence in subset]\n",
    "for sentence in subset:\n",
    "    print(len(sentence), sentence)"
   ]
  },
  {
   "cell_type": "code",
   "execution_count": 308,
   "metadata": {},
   "outputs": [
    {
     "name": "stdout",
     "output_type": "stream",
     "text": [
      "37 [57, 10, 53, 438, 369, 817011, 3000000, 3000000, 3000000, 30909, 3000000, 3000000, 3000000, 3000000, 3000000, 3000000, 3000000, 11, 9895, 1958, 8019, 17, 1219623, 3000000, 0, 0, 0, 0, 0, 0, 0, 0, 0, 0, 0, 0, 0]\n",
      "37 [3000000, 863288, 602, 30124, 33742, 3000000, 3562, 3000000, 38263, 3000000, 3000000, 13860, 24, 20696, 3, 21322, 35, 3000000, 403, 1201, 8, 38263, 669, 1, 11, 36, 3000000, 0, 0, 0, 0, 0, 0, 0, 0, 0, 0]\n",
      "37 [228, 19, 29224, 438, 13, 3000000, 1635, 49, 101, 984, 141, 3000000, 11, 9, 473, 65530, 140, 11, 729, 24, 42, 3000000, 0, 0, 0, 0, 0, 0, 0, 0, 0, 0, 0, 0, 0, 0, 0]\n",
      "37 [361, 52, 11, 1830, 12, 11, 943, 3000000, 915, 24, 3000000, 16, 343, 99, 11, 1557, 3000000, 11, 555, 1126, 68081, 4, 2633, 5481, 555, 3000000, 28, 920, 645, 1734, 3000000, 11, 20599, 3000000, 11, 1638, 3000000]\n",
      "37 [3000000, 2165064, 4, 11, 2520, 1722, 3000000, 3000000, 0, 0, 0, 0, 0, 0, 0, 0, 0, 0, 0, 0, 0, 0, 0, 0, 0, 0, 0, 0, 0, 0, 0, 0, 0, 0, 0, 0, 0]\n"
     ]
    }
   ],
   "source": [
    "padded = torch.nn.utils.rnn.pad_sequence([torch.tensor(sentence) for sentence in subset], batch_first=True)\n",
    "for row in padded:\n",
    "    x = (list(i.item() for i in row))\n",
    "    print(len(x), x)"
   ]
  },
  {
   "cell_type": "code",
   "execution_count": 114,
   "metadata": {},
   "outputs": [
    {
     "data": {
      "text/plain": [
       "torch.Size([5, 37, 300])"
      ]
     },
     "execution_count": 114,
     "metadata": {},
     "output_type": "execute_result"
    }
   ],
   "source": [
    "EMBEDING_LAYER(padded).shape"
   ]
  },
  {
   "cell_type": "code",
   "execution_count": 369,
   "metadata": {},
   "outputs": [
    {
     "name": "stdout",
     "output_type": "stream",
     "text": [
      "torch.Size([128, 70]) torch.Size([128, 70])\n"
     ]
    }
   ],
   "source": [
    "train_loader = torch.utils.data.DataLoader(train_set, batch_size=128, shuffle=True)\n",
    "test_loader = torch.utils.data.DataLoader(test_set, batch_size=128, shuffle=True)\n",
    "val_loader = torch.utils.data.DataLoader(val_set, batch_size=128, shuffle=True)\n",
    "\n",
    "for data, labels in train_loader:\n",
    "    print(data.shape, labels.shape)\n",
    "    break"
   ]
  },
  {
   "cell_type": "code",
   "execution_count": 370,
   "metadata": {},
   "outputs": [
    {
     "name": "stdout",
     "output_type": "stream",
     "text": [
      "Epoch 1 Loss: 0.4421174942501008\n",
      "Epoch 2 Loss: 0.2991996251401447\n",
      "Epoch 3 Loss: 0.2604514216146772\n",
      "Epoch 4 Loss: 0.24270207730550614\n",
      "Epoch 5 Loss: 0.2020429720481237\n",
      "Epoch 6 Loss: 0.19433646235201094\n",
      "Epoch 7 Loss: 0.18486985398663414\n",
      "Epoch 8 Loss: 0.18023936805270968\n",
      "Epoch 9 Loss: 0.17515609590780168\n",
      "Epoch 10 Loss: 0.16338102673254315\n"
     ]
    }
   ],
   "source": [
    "class RNN(torch.nn.Module):\n",
    "    input_size: int\n",
    "    hidden_size: int\n",
    "    num_layers: int\n",
    "    output_size: int\n",
    "    embedding_matrix: torch.Tensor\n",
    "\n",
    "    def __init__(self, input_size, hidden_size, num_layers, output_size, embedding_matrix):\n",
    "        super(RNN, self).__init__()\n",
    "        self.embedding = torch.nn.Embedding.from_pretrained(embedding_matrix)\n",
    "        self.hidden_size = hidden_size\n",
    "        self.num_layers = num_layers\n",
    "        self.rnn = torch.nn.RNN(input_size, hidden_size, num_layers, batch_first=True)\n",
    "        self.fc = torch.nn.Linear(hidden_size, output_size)\n",
    "        self.softmax = torch.nn.LogSoftmax(dim=2)\n",
    "\n",
    "    def forward(self, x: torch.Tensor) -> torch.Tensor:\n",
    "        x = self.embedding(x)\n",
    "        hidden = torch.zeros(self.num_layers, x.shape[0], self.hidden_size)\n",
    "        output, _ = self.rnn(x, hidden)\n",
    "        output = self.fc(output)\n",
    "        return self.softmax(output)\n",
    "\n",
    "\n",
    "model = RNN(300, 128, 2, 27, embedding_matrix)\n",
    "criterion = torch.nn.NLLLoss()\n",
    "optimizer = torch.optim.Adam(model.parameters(), lr=0.01)\n",
    "for epoch in range(10):\n",
    "    total_loss = 0\n",
    "    for data, labels in train_loader:\n",
    "        output = model(data)\n",
    "        output = output.permute(0, 2, 1)\n",
    "        # only consider the words which were not padded\n",
    "        mask = (data != 0)\n",
    "        labels = labels * mask\n",
    "        mask = mask.unsqueeze(1).repeat(1, 27, 1)\n",
    "        output = output * mask.float()\n",
    "        loss = criterion(output, labels)\n",
    "        total_loss += loss.item()\n",
    "        loss.backward()\n",
    "        optimizer.step()\n",
    "        optimizer.zero_grad()\n",
    "    total_loss /= len(train_loader)\n",
    "    print(f\"Epoch {epoch+1} Loss: {total_loss}\")"
   ]
  },
  {
   "cell_type": "code",
   "execution_count": 371,
   "metadata": {},
   "outputs": [
    {
     "name": "stdout",
     "output_type": "stream",
     "text": [
      "7 of 8\n",
      "Test Loss: 0.1823\n"
     ]
    }
   ],
   "source": [
    "# Calculate true positives and negatives, and false positives and negatives\n",
    "\n",
    "model.eval()\n",
    "\n",
    "true = []\n",
    "predicted = []\n",
    "\n",
    "loader = test_loader\n",
    "with torch.no_grad():\n",
    "    total_loss = 0\n",
    "    for p, (data, labels) in enumerate(loader):\n",
    "        output = model(data).permute(0, 2, 1)\n",
    "        mask = (data != 0)\n",
    "        labels = labels * mask\n",
    "        output = output * mask.unsqueeze(1).repeat(1, 27, 1).float()\n",
    "        total_loss += (loss := criterion(output, labels)).item()\n",
    "        true.extend(labels.flatten().tolist())\n",
    "        predicted.extend(output.argmax(dim=1).flatten().tolist())\n",
    "\n",
    "        print(p, \"of\", len(loader), end=\"\\r\")\n",
    "    total_loss /= len(loader)\n",
    "\n",
    "print()\n",
    "print(f\"Test Loss: {total_loss:.4f}\")"
   ]
  },
  {
   "cell_type": "code",
   "execution_count": 372,
   "metadata": {},
   "outputs": [
    {
     "name": "stderr",
     "output_type": "stream",
     "text": [
      "c:\\Users\\Divyajeet Singh\\AppData\\Local\\Programs\\Python\\Python311\\Lib\\site-packages\\sklearn\\metrics\\_classification.py:1344: UndefinedMetricWarning: Precision is ill-defined and being set to 0.0 in labels with no predicted samples. Use `zero_division` parameter to control this behavior.\n",
      "  _warn_prf(average, modifier, msg_start, len(result))\n"
     ]
    },
    {
     "name": "stdout",
     "output_type": "stream",
     "text": [
      "Accuracy: 0.9512\n",
      "Precision: 0.4423\n",
      "Recall: 0.3812\n",
      "F1-Score: 0.3952\n"
     ]
    },
    {
     "data": {
      "image/png": "[encoded data removed]",
      "text/plain": [
       "<Figure size 400x400 with 2 Axes>"
      ]
     },
     "metadata": {},
     "output_type": "display_data"
    }
   ],
   "source": [
    "from sklearn.metrics import confusion_matrix\n",
    "from matplotlib import pyplot as plt\n",
    "from sklearn.metrics import accuracy_score, precision_score, recall_score, f1_score\n",
    "\n",
    "cf_matrix = confusion_matrix(true, predicted)\n",
    "acc = accuracy_score(true, predicted)\n",
    "prec = precision_score(true, predicted, average=\"macro\")\n",
    "rec = recall_score(true, predicted, average=\"macro\")\n",
    "f1 = f1_score(true, predicted, average=\"macro\")\n",
    "\n",
    "print(f\"Accuracy: {acc:.4f}\")\n",
    "print(f\"Precision: {prec:.4f}\")\n",
    "print(f\"Recall: {rec:.4f}\")\n",
    "print(f\"F1-Score: {f1:.4f}\")\n",
    "\n",
    "plt.figure(figsize=(4, 4))\n",
    "plt.imshow(cf_matrix)\n",
    "plt.colorbar()\n",
    "plt.show()"
   ]
  }
 ],
 "metadata": {
  "kernelspec": {
   "display_name": "Python 3",
   "language": "python",
   "name": "python3"
  },
  "language_info": {
   "codemirror_mode": {
    "name": "ipython",
    "version": 3
   },
   "file_extension": ".py",
   "mimetype": "text/x-python",
   "name": "python",
   "nbconvert_exporter": "python",
   "pygments_lexer": "ipython3",
   "version": "3.11.0"
  }
 },
 "nbformat": 4,
 "nbformat_minor": 2
}
