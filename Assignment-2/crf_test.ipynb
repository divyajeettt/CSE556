{
 "cells": [
  {
   "cell_type": "code",
   "execution_count": 2,
   "metadata": {},
   "outputs": [],
   "source": [
    "import torch"
   ]
  },
  {
   "cell_type": "code",
   "execution_count": 16,
   "metadata": {},
   "outputs": [],
   "source": [
    "class CRF(torch.nn.Module):\n",
    "    def __init__(self, num_tags):\n",
    "        super(CRF, self).__init__()\n",
    "        self.num_tags = num_tags + 2\n",
    "        self.start = self.num_tags-2\n",
    "        self.end = self.start+1\n",
    "        self.transitions = torch.nn.Parameter(torch.randn(self.num_tags, self.num_tags))\n",
    "    \n",
    "    def forward_score(self,features):\n",
    "        scores = torch.ones(features.shape[0], self.num_tags) * -6969\n",
    "        scores[:,self.start] = 0\n",
    "        for i in range(features.shape[1]):\n",
    "            feat = features[:,i]\n",
    "            score = scores.unsqueeze(1) + feat.unsqueeze(2) + self.transitions.unsqueeze(0)\n",
    "            scores = torch.logsumexp(score, dim=-1)\n",
    "        scores = scores + self.transitions[self.end]\n",
    "        return torch.logsumexp(scores, dim=-1)\n",
    "    \n",
    "    def score_sentence(self,features,tags):\n",
    "        scores = features.gather(2, tags.unsqueeze(2)).squeeze(2)\n",
    "        start = torch.ones(features.shape[0],1,dtype=torch.long) * self.start\n",
    "        tags = torch.cat([start,tags],dim=1)\n",
    "        trans_scores = self.transitions[tags[:,:-1],tags[:,1:]]\n",
    "        last_tag = tags.gather(1,torch.ones(features.shape[0],1,dtype=torch.long) * features.shape[1])\n",
    "        last_scores = self.transitions[self.end,last_tag]\n",
    "        return (trans_scores + scores).sum(dim=1) + last_scores\n",
    "    \n",
    "    def viterbi_decode(self,features):\n",
    "        scores = torch.ones(features.shape[0], self.num_tags) * -6969\n",
    "        ptrs = torch.zeros_like(features)\n",
    "        scores[:,self.start] = 0\n",
    "        for i in range(features.shape[1]):\n",
    "            feat = features[:,i]\n",
    "            score = scores.unsqueeze(1) + self.transitions\n",
    "\n",
    "            score, ptrs[:,i,:] = score.max(dim=-1)\n",
    "            score += feat\n",
    "            scores = score\n",
    "\n",
    "        scores += self.transitions[self.end]\n",
    "        scores, idx = scores.max(dim=-1)\n",
    "        best_paths = []\n",
    "        ptrs = ptrs.cpu().numpy()\n",
    "        for i in range(features.shape[0]):\n",
    "            bt = idx[i].item()\n",
    "            best_path = [bt]\n",
    "            for ptr in reversed(ptrs[i]):\n",
    "                bt = int(ptr[bt])\n",
    "                best_path.append(bt)\n",
    "            best_path.pop()\n",
    "            best_paths.append(best_path[::-1])\n",
    "        return scores, best_paths\n",
    "    \n",
    "    def forward(self,features):\n",
    "        return self.viterbi_decode(features)\n",
    "\n",
    "    def loss(self,features,tags):\n",
    "        forward_score = self.forward_score(features)\n",
    "        gold_score = self.score_sentence(features,tags.long())\n",
    "        return (forward_score - gold_score).mean()"
   ]
  },
  {
   "cell_type": "code",
   "execution_count": 17,
   "metadata": {},
   "outputs": [
    {
     "name": "stdout",
     "output_type": "stream",
     "text": [
      "torch.Size([2, 40]) torch.Size([2, 40]) torch.Size([2, 1])\n",
      "tensor(153.3246, grad_fn=<MeanBackward0>)\n"
     ]
    }
   ],
   "source": [
    "crf = CRF(10)\n",
    "a = torch.randn(2,40,12)\n",
    "b = torch.randint(0,10,(2,40))\n",
    "c = crf.loss(a,b)\n",
    "print(c)"
   ]
  }
 ],
 "metadata": {
  "kernelspec": {
   "display_name": "base",
   "language": "python",
   "name": "python3"
  },
  "language_info": {
   "codemirror_mode": {
    "name": "ipython",
    "version": 3
   },
   "file_extension": ".py",
   "mimetype": "text/x-python",
   "name": "python",
   "nbconvert_exporter": "python",
   "pygments_lexer": "ipython3",
   "version": "3.11.5"
  }
 },
 "nbformat": 4,
 "nbformat_minor": 2
}
